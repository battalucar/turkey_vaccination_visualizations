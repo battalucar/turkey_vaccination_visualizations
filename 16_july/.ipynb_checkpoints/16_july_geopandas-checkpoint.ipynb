{
 "cells": [
  {
   "cell_type": "code",
   "execution_count": 1,
   "metadata": {},
   "outputs": [
    {
     "ename": "ModuleNotFoundError",
     "evalue": "No module named 'geopandas'",
     "output_type": "error",
     "traceback": [
      "\u001b[1;31m---------------------------------------------------------------------------\u001b[0m",
      "\u001b[1;31mModuleNotFoundError\u001b[0m                       Traceback (most recent call last)",
      "\u001b[1;32m<ipython-input-1-be8981759a86>\u001b[0m in \u001b[0;36m<module>\u001b[1;34m\u001b[0m\n\u001b[0;32m      1\u001b[0m \u001b[1;32mimport\u001b[0m \u001b[0mpandas\u001b[0m \u001b[1;32mas\u001b[0m \u001b[0mpd\u001b[0m\u001b[1;33m\u001b[0m\u001b[1;33m\u001b[0m\u001b[0m\n\u001b[0;32m      2\u001b[0m \u001b[1;32mimport\u001b[0m \u001b[0mmatplotlib\u001b[0m\u001b[1;33m.\u001b[0m\u001b[0mpyplot\u001b[0m \u001b[1;32mas\u001b[0m \u001b[0mplt\u001b[0m\u001b[1;33m\u001b[0m\u001b[1;33m\u001b[0m\u001b[0m\n\u001b[1;32m----> 3\u001b[1;33m \u001b[1;32mimport\u001b[0m \u001b[0mgeopandas\u001b[0m \u001b[1;32mas\u001b[0m \u001b[0mgpd\u001b[0m\u001b[1;33m\u001b[0m\u001b[1;33m\u001b[0m\u001b[0m\n\u001b[0m\u001b[0;32m      4\u001b[0m \u001b[1;32mimport\u001b[0m \u001b[0mnumpy\u001b[0m \u001b[1;32mas\u001b[0m \u001b[0mnp\u001b[0m\u001b[1;33m\u001b[0m\u001b[1;33m\u001b[0m\u001b[0m\n\u001b[0;32m      5\u001b[0m \u001b[1;33m\u001b[0m\u001b[0m\n",
      "\u001b[1;31mModuleNotFoundError\u001b[0m: No module named 'geopandas'"
     ]
    }
   ],
   "source": [
    "import pandas as pd\n",
    "import matplotlib.pyplot as plt\n",
    "import geopandas as gpd\n",
    "import numpy as np\n",
    "\n",
    "import warnings\n",
    "warnings.filterwarnings('ignore')"
   ]
  },
  {
   "cell_type": "code",
   "execution_count": null,
   "metadata": {},
   "outputs": [],
   "source": [
    "fp = './turkey_map/tur_polbnda_adm1.shp'"
   ]
  },
  {
   "cell_type": "code",
   "execution_count": null,
   "metadata": {},
   "outputs": [],
   "source": [
    "map_df = gpd.read_file(fp)"
   ]
  },
  {
   "cell_type": "code",
   "execution_count": null,
   "metadata": {},
   "outputs": [],
   "source": [
    "# Inspecting\n",
    "map_df.head()"
   ]
  },
  {
   "cell_type": "code",
   "execution_count": null,
   "metadata": {},
   "outputs": [],
   "source": [
    "map_df.plot();"
   ]
  },
  {
   "cell_type": "code",
   "execution_count": null,
   "metadata": {},
   "outputs": [],
   "source": [
    "data = pd.read_csv(\"./data/16_july_vaccination_data.csv\")\n",
    "tr_population = pd.read_excel('./data/tr-population-by-years.xls')"
   ]
  },
  {
   "cell_type": "code",
   "execution_count": null,
   "metadata": {},
   "outputs": [],
   "source": [
    "display(data.head())\n",
    "display(tr_population.head())"
   ]
  },
  {
   "cell_type": "code",
   "execution_count": null,
   "metadata": {},
   "outputs": [],
   "source": [
    "df_city_populations = tr_population.iloc[1:, [0,21]] # Filtering the columns [city, 2020]\n",
    "df_city_populations.columns = ['city', 2020] # Updating the column name\n",
    "\n",
    "# Updating the city names\n",
    "df_city_populations.city = df_city_populations.city.str.replace('İ', 'I')\n",
    "df_city_populations.city = df_city_populations.city.str.replace('ı', 'i')\n",
    "\n",
    "df_city_populations.city = df_city_populations.city.str.replace('Ğ', 'G')\n",
    "df_city_populations.city = df_city_populations.city.str.replace('ğ', 'g')\n",
    "\n",
    "df_city_populations.city = df_city_populations.city.str.replace('ü', 'u')\n",
    "df_city_populations.city = df_city_populations.city.str.replace('Ü', 'U')\n",
    "\n",
    "df_city_populations.city = df_city_populations.city.str.replace('ö', 'o')\n",
    "df_city_populations.city = df_city_populations.city.str.replace('Ö', 'O')\n",
    "\n",
    "df_city_populations.city = df_city_populations.city.str.replace('ş', 's')\n",
    "df_city_populations.city = df_city_populations.city.str.replace('Ş', 'S')\n",
    "\n",
    "df_city_populations.city = df_city_populations.city.str.replace('ç', 'c')\n",
    "df_city_populations.city = df_city_populations.city.str.replace('Ç', 'C')"
   ]
  },
  {
   "cell_type": "code",
   "execution_count": null,
   "metadata": {},
   "outputs": [],
   "source": [
    "# Updating the city names\n",
    "data.city = data.city.str.replace('İ', 'I')\n",
    "data.city = data.city.str.replace('ı', 'i')\n",
    "\n",
    "data.city = data.city.str.replace('Ğ', 'G')\n",
    "data.city = data.city.str.replace('ğ', 'g')\n",
    "\n",
    "data.city = data.city.str.replace('ü', 'u')\n",
    "data.city = data.city.str.replace('Ü', 'U')\n",
    "\n",
    "data.city = data.city.str.replace('ö', 'o')\n",
    "data.city = data.city.str.replace('Ö', 'O')\n",
    "\n",
    "data.city = data.city.str.replace('ş', 's')\n",
    "data.city = data.city.str.replace('Ş', 'S')\n",
    "\n",
    "data.city = data.city.str.replace('ç', 'c')\n",
    "data.city = data.city.str.replace('Ç', 'C')"
   ]
  },
  {
   "cell_type": "code",
   "execution_count": null,
   "metadata": {},
   "outputs": [],
   "source": [
    "data.head()"
   ]
  },
  {
   "cell_type": "code",
   "execution_count": null,
   "metadata": {},
   "outputs": [],
   "source": [
    "# Formatting the city names\n",
    "df_city_populations.city = df_city_populations.city.str.upper()\n",
    "data.city = data.city.str.upper()"
   ]
  },
  {
   "cell_type": "code",
   "execution_count": null,
   "metadata": {},
   "outputs": [],
   "source": [
    "# Updating a specific value for making both value same for both data\n",
    "data.city[data.city == 'AFYON'] = 'AFYONKARAHISAR'"
   ]
  },
  {
   "cell_type": "code",
   "execution_count": null,
   "metadata": {},
   "outputs": [],
   "source": [
    "# Checking if there is different values in city column for both data\n",
    "for i,j in zip(df_city_populations.city, data.city):\n",
    "    if i != j:\n",
    "        print(i, j)"
   ]
  },
  {
   "cell_type": "code",
   "execution_count": null,
   "metadata": {},
   "outputs": [],
   "source": [
    "# Checking the shape of the both data\n",
    "print(data.shape)\n",
    "print(df_city_populations.shape)"
   ]
  },
  {
   "cell_type": "code",
   "execution_count": null,
   "metadata": {},
   "outputs": [],
   "source": [
    "# Merging two data frames on the city column\n",
    "df = data.merge(df_city_populations)"
   ]
  },
  {
   "cell_type": "code",
   "execution_count": null,
   "metadata": {},
   "outputs": [],
   "source": [
    "# Creating a dataframe that contains the total column values for Turkey general\n",
    "total_df = pd.DataFrame({'city': 'total', 'first_': df.iloc[:,1].sum(), 'second_': df.iloc[:,2].sum(), 2020: df.iloc[:,3].sum()}, index=[0])\n",
    "total_df"
   ]
  },
  {
   "cell_type": "code",
   "execution_count": null,
   "metadata": {},
   "outputs": [],
   "source": [
    "display(df.head())"
   ]
  },
  {
   "cell_type": "code",
   "execution_count": null,
   "metadata": {},
   "outputs": [],
   "source": [
    "# Percentage column for every city, (Second * 100 / Total)\n",
    "percentage = round((df['second_'] * 100) / df[2020], 2)"
   ]
  },
  {
   "cell_type": "code",
   "execution_count": null,
   "metadata": {},
   "outputs": [],
   "source": [
    "df['percentage'] = percentage"
   ]
  },
  {
   "cell_type": "code",
   "execution_count": null,
   "metadata": {},
   "outputs": [],
   "source": [
    "display(df.head())"
   ]
  },
  {
   "cell_type": "code",
   "execution_count": null,
   "metadata": {},
   "outputs": [],
   "source": [
    "# Final dataframe, columns that i need only\n",
    "asilananlar_df = df[['city', 'percentage']]"
   ]
  },
  {
   "cell_type": "code",
   "execution_count": null,
   "metadata": {},
   "outputs": [],
   "source": [
    "# Making city names equivalent\n",
    "asilananlar_df.city = asilananlar_df.city.copy().str.upper()"
   ]
  },
  {
   "cell_type": "code",
   "execution_count": null,
   "metadata": {},
   "outputs": [],
   "source": [
    "display(asilananlar_df.head())"
   ]
  },
  {
   "cell_type": "code",
   "execution_count": null,
   "metadata": {},
   "outputs": [],
   "source": [
    "# Joining the geodataframe with the cleaned up dataframe\n",
    "merged = map_df.set_index('adm1_en').join(asilananlar_df.set_index('city'))\n",
    "\n",
    "# Inspecting very final dataframe\n",
    "merged.head()"
   ]
  },
  {
   "cell_type": "code",
   "execution_count": null,
   "metadata": {},
   "outputs": [],
   "source": [
    "# Setting up a variable that will call whatever column we want to visualise on the map\n",
    "variable = 'percentage'\n",
    "\n",
    "# Set the range for the choropleth\n",
    "vmin, vmax = round(asilananlar_df.percentage.min()), round(asilananlar_df.percentage.max())\n",
    "\n",
    "# Create figure and axes for Matplotlib\n",
    "fig, ax = plt.subplots(1, figsize=(9, 5), facecolor=(1, 1, 1))\n",
    "\n",
    "# Remove the axis\n",
    "ax.axis('off')\n",
    "\n",
    "# Add a title\n",
    "ax.set_title('21 Mayıs - Şehir Nüfusu / Tam Aşılama Oranı', fontdict={'fontsize': '18', 'fontweight' : '3'})\n",
    "\n",
    "# Create an annotation for the data source\n",
    "ax.annotate(\n",
    "    'Source: covid19asi.saglik.gov.tr, tuik.gov.tr', \n",
    "    xy=(0.1, .08), \n",
    "    xycoords='figure fraction', \n",
    "    horizontalalignment='left', \n",
    "    verticalalignment='top', \n",
    "    fontsize=12, \n",
    "    color='#555555')\n",
    "\n",
    "# Create colorbar as a legend\n",
    "sm = plt.cm.ScalarMappable(cmap='PuBu', norm=plt.Normalize(vmin=vmin, vmax=vmax))\n",
    "\n",
    "# Empty array for the data range\n",
    "sm._A = []\n",
    "\n",
    "# Add the colorbar to the figure\n",
    "cbar = fig.colorbar(sm)\n",
    "merged.plot(column=variable, cmap='PuBu', linewidth=0.8, ax=ax, edgecolor='0.8');\n",
    "\n",
    "# Saving the map\n",
    "fig.savefig('map_export.png', dpi=100)"
   ]
  }
 ],
 "metadata": {
  "kernelspec": {
   "display_name": "Python 3",
   "language": "python",
   "name": "python3"
  },
  "language_info": {
   "codemirror_mode": {
    "name": "ipython",
    "version": 3
   },
   "file_extension": ".py",
   "mimetype": "text/x-python",
   "name": "python",
   "nbconvert_exporter": "python",
   "pygments_lexer": "ipython3",
   "version": "3.8.8"
  }
 },
 "nbformat": 4,
 "nbformat_minor": 4
}
