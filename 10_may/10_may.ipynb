{
 "cells": [
  {
   "cell_type": "code",
   "execution_count": 1,
   "metadata": {},
   "outputs": [
    {
     "data": {
      "text/plain": [
       "'tr_TR.utf8'"
      ]
     },
     "execution_count": 1,
     "metadata": {},
     "output_type": "execute_result"
    }
   ],
   "source": [
    "import pandas as pd\n",
    "import numpy as np\n",
    "import matplotlib.pyplot as plt\n",
    "import seaborn as sns\n",
    "import locale\n",
    "import matplotlib\n",
    "from matplotlib.patches import ConnectionPatch\n",
    "\n",
    "import warnings\n",
    "warnings.filterwarnings('ignore')\n",
    "\n",
    "locale.setlocale(locale.LC_ALL, 'tr_TR.utf8')"
   ]
  },
  {
   "cell_type": "code",
   "execution_count": 2,
   "metadata": {},
   "outputs": [],
   "source": [
    "# Loading data\n",
    "data = pd.read_csv(\"./data/10_may_vaccination_data.csv\")\n",
    "tr_population = pd.read_excel('./data/tr-population-by-years.xls')"
   ]
  },
  {
   "cell_type": "code",
   "execution_count": 3,
   "metadata": {},
   "outputs": [
    {
     "data": {
      "text/html": [
       "<div>\n",
       "<style scoped>\n",
       "    .dataframe tbody tr th:only-of-type {\n",
       "        vertical-align: middle;\n",
       "    }\n",
       "\n",
       "    .dataframe tbody tr th {\n",
       "        vertical-align: top;\n",
       "    }\n",
       "\n",
       "    .dataframe thead th {\n",
       "        text-align: right;\n",
       "    }\n",
       "</style>\n",
       "<table border=\"1\" class=\"dataframe\">\n",
       "  <thead>\n",
       "    <tr style=\"text-align: right;\">\n",
       "      <th></th>\n",
       "      <th>Category</th>\n",
       "      <th>2000</th>\n",
       "      <th>2001</th>\n",
       "      <th>2002</th>\n",
       "      <th>2003</th>\n",
       "      <th>2004</th>\n",
       "      <th>2005</th>\n",
       "      <th>2006</th>\n",
       "      <th>2007</th>\n",
       "      <th>2008</th>\n",
       "      <th>...</th>\n",
       "      <th>2011</th>\n",
       "      <th>2012</th>\n",
       "      <th>2013</th>\n",
       "      <th>2014</th>\n",
       "      <th>2015</th>\n",
       "      <th>2016</th>\n",
       "      <th>2017</th>\n",
       "      <th>2018</th>\n",
       "      <th>2019</th>\n",
       "      <th>2020</th>\n",
       "    </tr>\n",
       "  </thead>\n",
       "  <tbody>\n",
       "    <tr>\n",
       "      <th>0</th>\n",
       "      <td>Toplam-Total</td>\n",
       "      <td>64729501</td>\n",
       "      <td>65603160.0</td>\n",
       "      <td>66401851.0</td>\n",
       "      <td>67187251.0</td>\n",
       "      <td>68010215.0</td>\n",
       "      <td>68860539.0</td>\n",
       "      <td>69729967.0</td>\n",
       "      <td>70586256</td>\n",
       "      <td>71517100</td>\n",
       "      <td>...</td>\n",
       "      <td>74724269</td>\n",
       "      <td>75627384</td>\n",
       "      <td>76667864</td>\n",
       "      <td>77695904</td>\n",
       "      <td>78741053</td>\n",
       "      <td>79814871</td>\n",
       "      <td>80810525</td>\n",
       "      <td>82003882</td>\n",
       "      <td>83154997</td>\n",
       "      <td>83614362</td>\n",
       "    </tr>\n",
       "    <tr>\n",
       "      <th>1</th>\n",
       "      <td>Adana</td>\n",
       "      <td>1879695</td>\n",
       "      <td>1899324.0</td>\n",
       "      <td>1916637.0</td>\n",
       "      <td>1933428.0</td>\n",
       "      <td>1951142.0</td>\n",
       "      <td>1969512.0</td>\n",
       "      <td>1988277.0</td>\n",
       "      <td>2006650</td>\n",
       "      <td>2026319</td>\n",
       "      <td>...</td>\n",
       "      <td>2108805</td>\n",
       "      <td>2125635</td>\n",
       "      <td>2149260</td>\n",
       "      <td>2165595</td>\n",
       "      <td>2183167</td>\n",
       "      <td>2201670</td>\n",
       "      <td>2216475</td>\n",
       "      <td>2220125</td>\n",
       "      <td>2237940</td>\n",
       "      <td>2258718</td>\n",
       "    </tr>\n",
       "    <tr>\n",
       "      <th>2</th>\n",
       "      <td>Adıyaman</td>\n",
       "      <td>568432</td>\n",
       "      <td>571180.0</td>\n",
       "      <td>573149.0</td>\n",
       "      <td>574886.0</td>\n",
       "      <td>576808.0</td>\n",
       "      <td>578852.0</td>\n",
       "      <td>580926.0</td>\n",
       "      <td>582762</td>\n",
       "      <td>585067</td>\n",
       "      <td>...</td>\n",
       "      <td>593931</td>\n",
       "      <td>595261</td>\n",
       "      <td>597184</td>\n",
       "      <td>597835</td>\n",
       "      <td>602774</td>\n",
       "      <td>610484</td>\n",
       "      <td>615076</td>\n",
       "      <td>624513</td>\n",
       "      <td>626465</td>\n",
       "      <td>632459</td>\n",
       "    </tr>\n",
       "    <tr>\n",
       "      <th>3</th>\n",
       "      <td>Afyonkarahisar</td>\n",
       "      <td>696292</td>\n",
       "      <td>698029.0</td>\n",
       "      <td>698773.0</td>\n",
       "      <td>699193.0</td>\n",
       "      <td>699794.0</td>\n",
       "      <td>700502.0</td>\n",
       "      <td>701204.0</td>\n",
       "      <td>701572</td>\n",
       "      <td>697365</td>\n",
       "      <td>...</td>\n",
       "      <td>698626</td>\n",
       "      <td>703948</td>\n",
       "      <td>707123</td>\n",
       "      <td>706371</td>\n",
       "      <td>709015</td>\n",
       "      <td>714523</td>\n",
       "      <td>715693</td>\n",
       "      <td>725568</td>\n",
       "      <td>729483</td>\n",
       "      <td>736912</td>\n",
       "    </tr>\n",
       "    <tr>\n",
       "      <th>4</th>\n",
       "      <td>Ağrı</td>\n",
       "      <td>519190</td>\n",
       "      <td>521514.0</td>\n",
       "      <td>523123.0</td>\n",
       "      <td>524514.0</td>\n",
       "      <td>526070.0</td>\n",
       "      <td>527732.0</td>\n",
       "      <td>529417.0</td>\n",
       "      <td>530879</td>\n",
       "      <td>532180</td>\n",
       "      <td>...</td>\n",
       "      <td>555479</td>\n",
       "      <td>552404</td>\n",
       "      <td>551177</td>\n",
       "      <td>549435</td>\n",
       "      <td>547210</td>\n",
       "      <td>542255</td>\n",
       "      <td>536285</td>\n",
       "      <td>539657</td>\n",
       "      <td>536199</td>\n",
       "      <td>535435</td>\n",
       "    </tr>\n",
       "  </tbody>\n",
       "</table>\n",
       "<p>5 rows × 22 columns</p>\n",
       "</div>"
      ],
      "text/plain": [
       "         Category      2000        2001        2002        2003        2004  \\\n",
       "0    Toplam-Total  64729501  65603160.0  66401851.0  67187251.0  68010215.0   \n",
       "1           Adana   1879695   1899324.0   1916637.0   1933428.0   1951142.0   \n",
       "2        Adıyaman    568432    571180.0    573149.0    574886.0    576808.0   \n",
       "3  Afyonkarahisar    696292    698029.0    698773.0    699193.0    699794.0   \n",
       "4            Ağrı    519190    521514.0    523123.0    524514.0    526070.0   \n",
       "\n",
       "         2005        2006      2007      2008  ...      2011      2012  \\\n",
       "0  68860539.0  69729967.0  70586256  71517100  ...  74724269  75627384   \n",
       "1   1969512.0   1988277.0   2006650   2026319  ...   2108805   2125635   \n",
       "2    578852.0    580926.0    582762    585067  ...    593931    595261   \n",
       "3    700502.0    701204.0    701572    697365  ...    698626    703948   \n",
       "4    527732.0    529417.0    530879    532180  ...    555479    552404   \n",
       "\n",
       "       2013      2014      2015      2016      2017      2018      2019  \\\n",
       "0  76667864  77695904  78741053  79814871  80810525  82003882  83154997   \n",
       "1   2149260   2165595   2183167   2201670   2216475   2220125   2237940   \n",
       "2    597184    597835    602774    610484    615076    624513    626465   \n",
       "3    707123    706371    709015    714523    715693    725568    729483   \n",
       "4    551177    549435    547210    542255    536285    539657    536199   \n",
       "\n",
       "       2020  \n",
       "0  83614362  \n",
       "1   2258718  \n",
       "2    632459  \n",
       "3    736912  \n",
       "4    535435  \n",
       "\n",
       "[5 rows x 22 columns]"
      ]
     },
     "metadata": {},
     "output_type": "display_data"
    },
    {
     "data": {
      "text/html": [
       "<div>\n",
       "<style scoped>\n",
       "    .dataframe tbody tr th:only-of-type {\n",
       "        vertical-align: middle;\n",
       "    }\n",
       "\n",
       "    .dataframe tbody tr th {\n",
       "        vertical-align: top;\n",
       "    }\n",
       "\n",
       "    .dataframe thead th {\n",
       "        text-align: right;\n",
       "    }\n",
       "</style>\n",
       "<table border=\"1\" class=\"dataframe\">\n",
       "  <thead>\n",
       "    <tr style=\"text-align: right;\">\n",
       "      <th></th>\n",
       "      <th>city</th>\n",
       "      <th>total</th>\n",
       "      <th>first_</th>\n",
       "      <th>second_</th>\n",
       "    </tr>\n",
       "  </thead>\n",
       "  <tbody>\n",
       "    <tr>\n",
       "      <th>0</th>\n",
       "      <td>adana</td>\n",
       "      <td>604533</td>\n",
       "      <td>355061</td>\n",
       "      <td>249472</td>\n",
       "    </tr>\n",
       "    <tr>\n",
       "      <th>1</th>\n",
       "      <td>adıyaman</td>\n",
       "      <td>134323</td>\n",
       "      <td>78503</td>\n",
       "      <td>55820</td>\n",
       "    </tr>\n",
       "    <tr>\n",
       "      <th>2</th>\n",
       "      <td>afyon</td>\n",
       "      <td>236602</td>\n",
       "      <td>135197</td>\n",
       "      <td>101405</td>\n",
       "    </tr>\n",
       "    <tr>\n",
       "      <th>3</th>\n",
       "      <td>ağrı</td>\n",
       "      <td>62582</td>\n",
       "      <td>42718</td>\n",
       "      <td>19864</td>\n",
       "    </tr>\n",
       "    <tr>\n",
       "      <th>4</th>\n",
       "      <td>amasya</td>\n",
       "      <td>151551</td>\n",
       "      <td>85487</td>\n",
       "      <td>66064</td>\n",
       "    </tr>\n",
       "  </tbody>\n",
       "</table>\n",
       "</div>"
      ],
      "text/plain": [
       "       city   total  first_  second_\n",
       "0     adana  604533  355061   249472\n",
       "1  adıyaman  134323   78503    55820\n",
       "2     afyon  236602  135197   101405\n",
       "3      ağrı   62582   42718    19864\n",
       "4    amasya  151551   85487    66064"
      ]
     },
     "metadata": {},
     "output_type": "display_data"
    }
   ],
   "source": [
    "# Inspecting data\n",
    "display(tr_population.head())\n",
    "display(data.head())"
   ]
  },
  {
   "cell_type": "code",
   "execution_count": 4,
   "metadata": {},
   "outputs": [
    {
     "data": {
      "text/plain": [
       "83614362"
      ]
     },
     "metadata": {},
     "output_type": "display_data"
    }
   ],
   "source": [
    "# Extracting the total population of Turkey in 2020\n",
    "tr_2020_pop = tr_population.iloc[0, 21]\n",
    "display(tr_2020_pop)"
   ]
  },
  {
   "cell_type": "code",
   "execution_count": 5,
   "metadata": {},
   "outputs": [
    {
     "data": {
      "text/plain": [
       "array([[355061, 249472],\n",
       "       [ 78503,  55820],\n",
       "       [135197, 101405],\n",
       "       [ 42718,  19864],\n",
       "       [ 85487,  66064]])"
      ]
     },
     "metadata": {},
     "output_type": "display_data"
    }
   ],
   "source": [
    "# Converting [first dose, second_dose] to numpy array\n",
    "veri = data.iloc[:,2:].to_numpy()\n",
    "display(veri[:5])"
   ]
  },
  {
   "cell_type": "code",
   "execution_count": 6,
   "metadata": {},
   "outputs": [],
   "source": [
    "# Matplotlib graph customizations\n",
    "font = {'family' : 'sans-serif',\n",
    "        'weight' : 'normal',\n",
    "        'size'   : 12}\n",
    "\n",
    "matplotlib.rc('font', **font)"
   ]
  },
  {
   "cell_type": "code",
   "execution_count": 7,
   "metadata": {},
   "outputs": [],
   "source": [
    "# 2020 populations of the cities\n",
    "city_pops = tr_population.loc[1:,2020].reset_index().drop('index', axis=1).to_numpy()"
   ]
  },
  {
   "cell_type": "code",
   "execution_count": 8,
   "metadata": {},
   "outputs": [],
   "source": [
    "# Adding city_pops to the vaccination data\n",
    "data['city_total'] = city_pops"
   ]
  },
  {
   "cell_type": "code",
   "execution_count": 9,
   "metadata": {},
   "outputs": [],
   "source": [
    "# Sorting the columns\n",
    "data = data[['city', 'city_total', 'total', 'first_', 'second_',]]"
   ]
  },
  {
   "cell_type": "code",
   "execution_count": 10,
   "metadata": {},
   "outputs": [],
   "source": [
    "data_general = data.iloc[:,[1,2]].to_numpy() # [city_total, total] columns\n",
    "data_vaccinated = data.iloc[:, 3:].to_numpy() # [first_, second_] columns"
   ]
  },
  {
   "cell_type": "code",
   "execution_count": 11,
   "metadata": {},
   "outputs": [
    {
     "data": {
      "image/png": "[encoded data removed]",
      "text/plain": [
       "<Figure size 648x364.5 with 2 Axes>"
      ]
     },
     "metadata": {},
     "output_type": "display_data"
    }
   ],
   "source": [
    "vaccinated = veri.sum(axis=0)[0] + veri.sum(axis=0)[1] # first dose + second dose\n",
    "not_vaccinated = tr_2020_pop - vaccinated # total population - vaccinated\n",
    "\n",
    "sizes = veri.sum(axis=0); # first dose total - second dose total\n",
    "general = np.array([not_vaccinated, vaccinated])\n",
    "\n",
    "asilanmayan_sayi = general[0] # not vaccinated population total\n",
    "asilanan_sayi = general[1] # vaccinated population total\n",
    "\n",
    "ilk_doz_olan_sayi = sizes[0] # first dose total\n",
    "ikinci_doz_olan_sayi = sizes[1] # second dose total\n",
    "\n",
    "# Make figure and assign axis objects\n",
    "fig = plt.figure(figsize=(9, 5), facecolor=(1, 1, 1)) # setting background color to white\n",
    "ax1 = fig.add_subplot(121)\n",
    "ax2 = fig.add_subplot(122)\n",
    "fig.subplots_adjust(wspace=0)\n",
    "\n",
    "# Pie chart parameters\n",
    "ratios = [(round((asilanan_sayi * 100) / general.sum())) / 100, (round((asilanmayan_sayi * 100) / general.sum())) / 100]\n",
    "labels = ['Aşılanan', 'Aşılanmayan']\n",
    "explode = [0, 0.1]\n",
    "\n",
    "# Rotate so that first wedge is split by the x-axis\n",
    "angle = -180 * ratios[0]\n",
    "ax1.pie(ratios, autopct='%1.1f%%', startangle=angle,\n",
    "        labels=labels, explode=explode)\n",
    "\n",
    "# Bar chart parameters\n",
    "xpos = 0\n",
    "bottom = 0\n",
    "ratios = [(round((ilk_doz_olan_sayi * 100) / sizes.sum())) / 100, (round((ikinci_doz_olan_sayi * 100) / sizes.sum())) / 100]\n",
    "width = .2\n",
    "colors = [[.6, .5, .9], [.5, .9, .5]]\n",
    "\n",
    "for j in range(len(ratios)):\n",
    "    height = ratios[j]\n",
    "    ax2.bar(xpos, height, width, bottom=bottom, color=colors[j])\n",
    "    ypos = bottom + ax2.patches[j].get_height() / 2\n",
    "    bottom += height\n",
    "    ax2.text(xpos, ypos, \"%d%%\" % (ax2.patches[j].get_height() * 100),\n",
    "             ha='center')\n",
    "\n",
    "ax2.set_title('Türkiye Geneli')\n",
    "ax2.legend(('Bir doz', 'İki doz'))\n",
    "ax2.axis('off')\n",
    "ax2.set_xlim(- 2.5 * width, 2.5 * width)\n",
    "\n",
    "# Use ConnectionPatch to draw lines between the two plots\n",
    "# Get the wedge data\n",
    "theta1, theta2 = ax1.patches[0].theta1, ax1.patches[0].theta2\n",
    "center, r = ax1.patches[0].center, ax1.patches[0].r\n",
    "bar_height = sum([item.get_height() for item in ax2.patches])\n",
    "\n",
    "# Drawing top connecting line\n",
    "x = r * np.cos(np.pi / 180 * theta2) + center[0]\n",
    "y = np.sin(np.pi / 180 * theta2) + center[1]\n",
    "con = ConnectionPatch(xyA=(- width / 2, bar_height), xyB=(x, y),\n",
    "                      coordsA=\"data\", coordsB=\"data\", axesA=ax2, axesB=ax1)\n",
    "con.set_color([0, 0, 0])\n",
    "con.set_linewidth(4)\n",
    "ax2.add_artist(con)\n",
    "\n",
    "# Drawing bottom connecting line\n",
    "x = r * np.cos(np.pi / 180 * theta1) + center[0]\n",
    "y = np.sin(np.pi / 180 * theta1) + center[1]\n",
    "con = ConnectionPatch(xyA=(- width / 2, 0), xyB=(x, y), coordsA=\"data\",\n",
    "                      coordsB=\"data\", axesA=ax2, axesB=ax1)\n",
    "con.set_color([0, 0, 0])\n",
    "ax2.add_artist(con)\n",
    "con.set_linewidth(4)\n",
    "\n",
    "x = data.second_.sum(axis=0)\n",
    "y = data.city_total.sum(axis=0)\n",
    "\n",
    "ax1.annotate(\n",
    "    'Türkiye geneli tam aşılama oranı: ' + str(round((x * 100) / y,1)), \n",
    "    xy=(0.05, 0.1), \n",
    "    xycoords='figure fraction', \n",
    "    horizontalalignment='left', \n",
    "    verticalalignment='top', \n",
    "    fontsize=12, \n",
    "    color='#555555')\n",
    "\n",
    "ax1.annotate(\n",
    "    '10 Mayıs', \n",
    "    xy=(0.05, 0.95), \n",
    "    xycoords='figure fraction', \n",
    "    horizontalalignment='left', \n",
    "    verticalalignment='top', \n",
    "    fontsize=15, \n",
    "    color='#000000')\n",
    "\n",
    "#plt.savefig('graphs/genel-durum', bbox_inches=\"tight\");\n",
    "#plt.clf();\n",
    "plt.show()"
   ]
  },
  {
   "cell_type": "raw",
   "metadata": {
    "jupyter": {
     "outputs_hidden": true,
     "source_hidden": true
    },
    "tags": []
   },
   "source": [
    "\"\"\"\n",
    "labels = ['İlk doz', 'İkinci doz']\n",
    "labels2 = ['Aşılanmayanlar', 'Aşılananlar']\n",
    "explode = (0, 0.05)\n",
    "colors = ['#ff9999', '#99ff99']\n",
    "\n",
    "fig, ax = plt.subplots(2, 1, figsize=(16,14), facecolor='white');\n",
    "\n",
    "vaccinated = veri.sum(axis=0)[0] + veri.sum(axis=0)[1]\n",
    "not_vaccinated = tr_2020_pop - vaccinated\n",
    "\n",
    "sizes = veri.sum(axis=0);\n",
    "general = np.array([not_vaccinated, vaccinated])\n",
    "\n",
    "ax[0].pie(general, explode=explode, colors=colors, shadow=True, labeldistance=1.04, pctdistance=0.5,\n",
    "        autopct=lambda p:'{:.2f}%\\n({:,})'.format(p,int((p/100)*general.sum())));\n",
    "ax[1].pie(sizes, explode=explode, colors=colors, shadow=True, labeldistance=1.1, pctdistance=0.5,\n",
    "        autopct=lambda p:'{:.2f}%\\n({:,})'.format(p,int((p/100)*sizes.sum())));\n",
    "\n",
    "ax[0].set_title('29 Nisan Türkiye Genel Dağılım');\n",
    "ax[0].legend(labels=labels2)\n",
    "ax[1].set_title('29 Nisan Aşılananlar Türkiye Genel Dağılım');\n",
    "ax[1].legend(labels=labels)\n",
    "\n",
    "plt.savefig('graphs/Genel Durum', bbox_inches=\"tight\");\n",
    "\"\"\""
   ]
  },
  {
   "cell_type": "code",
   "execution_count": 12,
   "metadata": {},
   "outputs": [],
   "source": [
    "font = {'family' : 'sans-serif',\n",
    "        'weight' : 'normal',\n",
    "        'size'   : 12}\n",
    "\n",
    "matplotlib.rc('font', **font)"
   ]
  },
  {
   "cell_type": "code",
   "execution_count": 13,
   "metadata": {
    "collapsed": true,
    "jupyter": {
     "outputs_hidden": true
    },
    "tags": []
   },
   "outputs": [
    {
     "data": {
      "text/plain": [
       "<Figure size 648x364.5 with 0 Axes>"
      ]
     },
     "metadata": {},
     "output_type": "display_data"
    },
    {
     "data": {
      "text/plain": [
       "<Figure size 648x364.5 with 0 Axes>"
      ]
     },
     "metadata": {},
     "output_type": "display_data"
    },
    {
     "data": {
      "text/plain": [
       "<Figure size 648x364.5 with 0 Axes>"
      ]
     },
     "metadata": {},
     "output_type": "display_data"
    },
    {
     "data": {
      "text/plain": [
       "<Figure size 648x364.5 with 0 Axes>"
      ]
     },
     "metadata": {},
     "output_type": "display_data"
    },
    {
     "data": {
      "text/plain": [
       "<Figure size 648x364.5 with 0 Axes>"
      ]
     },
     "metadata": {},
     "output_type": "display_data"
    },
    {
     "data": {
      "text/plain": [
       "<Figure size 648x364.5 with 0 Axes>"
      ]
     },
     "metadata": {},
     "output_type": "display_data"
    },
    {
     "data": {
      "text/plain": [
       "<Figure size 648x364.5 with 0 Axes>"
      ]
     },
     "metadata": {},
     "output_type": "display_data"
    },
    {
     "data": {
      "text/plain": [
       "<Figure size 648x364.5 with 0 Axes>"
      ]
     },
     "metadata": {},
     "output_type": "display_data"
    },
    {
     "data": {
      "text/plain": [
       "<Figure size 648x364.5 with 0 Axes>"
      ]
     },
     "metadata": {},
     "output_type": "display_data"
    },
    {
     "data": {
      "text/plain": [
       "<Figure size 648x364.5 with 0 Axes>"
      ]
     },
     "metadata": {},
     "output_type": "display_data"
    },
    {
     "data": {
      "text/plain": [
       "<Figure size 648x364.5 with 0 Axes>"
      ]
     },
     "metadata": {},
     "output_type": "display_data"
    },
    {
     "data": {
      "text/plain": [
       "<Figure size 648x364.5 with 0 Axes>"
      ]
     },
     "metadata": {},
     "output_type": "display_data"
    },
    {
     "data": {
      "text/plain": [
       "<Figure size 648x364.5 with 0 Axes>"
      ]
     },
     "metadata": {},
     "output_type": "display_data"
    },
    {
     "data": {
      "text/plain": [
       "<Figure size 648x364.5 with 0 Axes>"
      ]
     },
     "metadata": {},
     "output_type": "display_data"
    },
    {
     "data": {
      "text/plain": [
       "<Figure size 648x364.5 with 0 Axes>"
      ]
     },
     "metadata": {},
     "output_type": "display_data"
    },
    {
     "data": {
      "text/plain": [
       "<Figure size 648x364.5 with 0 Axes>"
      ]
     },
     "metadata": {},
     "output_type": "display_data"
    },
    {
     "data": {
      "text/plain": [
       "<Figure size 648x364.5 with 0 Axes>"
      ]
     },
     "metadata": {},
     "output_type": "display_data"
    },
    {
     "data": {
      "text/plain": [
       "<Figure size 648x364.5 with 0 Axes>"
      ]
     },
     "metadata": {},
     "output_type": "display_data"
    },
    {
     "data": {
      "text/plain": [
       "<Figure size 648x364.5 with 0 Axes>"
      ]
     },
     "metadata": {},
     "output_type": "display_data"
    },
    {
     "data": {
      "text/plain": [
       "<Figure size 648x364.5 with 0 Axes>"
      ]
     },
     "metadata": {},
     "output_type": "display_data"
    },
    {
     "data": {
      "text/plain": [
       "<Figure size 648x364.5 with 0 Axes>"
      ]
     },
     "metadata": {},
     "output_type": "display_data"
    },
    {
     "data": {
      "text/plain": [
       "<Figure size 648x364.5 with 0 Axes>"
      ]
     },
     "metadata": {},
     "output_type": "display_data"
    },
    {
     "data": {
      "text/plain": [
       "<Figure size 648x364.5 with 0 Axes>"
      ]
     },
     "metadata": {},
     "output_type": "display_data"
    },
    {
     "data": {
      "text/plain": [
       "<Figure size 648x364.5 with 0 Axes>"
      ]
     },
     "metadata": {},
     "output_type": "display_data"
    },
    {
     "data": {
      "text/plain": [
       "<Figure size 648x364.5 with 0 Axes>"
      ]
     },
     "metadata": {},
     "output_type": "display_data"
    },
    {
     "data": {
      "text/plain": [
       "<Figure size 648x364.5 with 0 Axes>"
      ]
     },
     "metadata": {},
     "output_type": "display_data"
    },
    {
     "data": {
      "text/plain": [
       "<Figure size 648x364.5 with 0 Axes>"
      ]
     },
     "metadata": {},
     "output_type": "display_data"
    },
    {
     "data": {
      "text/plain": [
       "<Figure size 648x364.5 with 0 Axes>"
      ]
     },
     "metadata": {},
     "output_type": "display_data"
    },
    {
     "data": {
      "text/plain": [
       "<Figure size 648x364.5 with 0 Axes>"
      ]
     },
     "metadata": {},
     "output_type": "display_data"
    },
    {
     "data": {
      "text/plain": [
       "<Figure size 648x364.5 with 0 Axes>"
      ]
     },
     "metadata": {},
     "output_type": "display_data"
    },
    {
     "data": {
      "text/plain": [
       "<Figure size 648x364.5 with 0 Axes>"
      ]
     },
     "metadata": {},
     "output_type": "display_data"
    },
    {
     "data": {
      "text/plain": [
       "<Figure size 648x364.5 with 0 Axes>"
      ]
     },
     "metadata": {},
     "output_type": "display_data"
    },
    {
     "data": {
      "text/plain": [
       "<Figure size 648x364.5 with 0 Axes>"
      ]
     },
     "metadata": {},
     "output_type": "display_data"
    },
    {
     "data": {
      "text/plain": [
       "<Figure size 648x364.5 with 0 Axes>"
      ]
     },
     "metadata": {},
     "output_type": "display_data"
    },
    {
     "data": {
      "text/plain": [
       "<Figure size 648x364.5 with 0 Axes>"
      ]
     },
     "metadata": {},
     "output_type": "display_data"
    },
    {
     "data": {
      "text/plain": [
       "<Figure size 648x364.5 with 0 Axes>"
      ]
     },
     "metadata": {},
     "output_type": "display_data"
    },
    {
     "data": {
      "text/plain": [
       "<Figure size 648x364.5 with 0 Axes>"
      ]
     },
     "metadata": {},
     "output_type": "display_data"
    },
    {
     "data": {
      "text/plain": [
       "<Figure size 648x364.5 with 0 Axes>"
      ]
     },
     "metadata": {},
     "output_type": "display_data"
    },
    {
     "data": {
      "text/plain": [
       "<Figure size 648x364.5 with 0 Axes>"
      ]
     },
     "metadata": {},
     "output_type": "display_data"
    },
    {
     "data": {
      "text/plain": [
       "<Figure size 648x364.5 with 0 Axes>"
      ]
     },
     "metadata": {},
     "output_type": "display_data"
    },
    {
     "data": {
      "text/plain": [
       "<Figure size 648x364.5 with 0 Axes>"
      ]
     },
     "metadata": {},
     "output_type": "display_data"
    },
    {
     "data": {
      "text/plain": [
       "<Figure size 648x364.5 with 0 Axes>"
      ]
     },
     "metadata": {},
     "output_type": "display_data"
    },
    {
     "data": {
      "text/plain": [
       "<Figure size 648x364.5 with 0 Axes>"
      ]
     },
     "metadata": {},
     "output_type": "display_data"
    },
    {
     "data": {
      "text/plain": [
       "<Figure size 648x364.5 with 0 Axes>"
      ]
     },
     "metadata": {},
     "output_type": "display_data"
    },
    {
     "data": {
      "text/plain": [
       "<Figure size 648x364.5 with 0 Axes>"
      ]
     },
     "metadata": {},
     "output_type": "display_data"
    },
    {
     "data": {
      "text/plain": [
       "<Figure size 648x364.5 with 0 Axes>"
      ]
     },
     "metadata": {},
     "output_type": "display_data"
    },
    {
     "data": {
      "text/plain": [
       "<Figure size 648x364.5 with 0 Axes>"
      ]
     },
     "metadata": {},
     "output_type": "display_data"
    },
    {
     "data": {
      "text/plain": [
       "<Figure size 648x364.5 with 0 Axes>"
      ]
     },
     "metadata": {},
     "output_type": "display_data"
    },
    {
     "data": {
      "text/plain": [
       "<Figure size 648x364.5 with 0 Axes>"
      ]
     },
     "metadata": {},
     "output_type": "display_data"
    },
    {
     "data": {
      "text/plain": [
       "<Figure size 648x364.5 with 0 Axes>"
      ]
     },
     "metadata": {},
     "output_type": "display_data"
    },
    {
     "data": {
      "text/plain": [
       "<Figure size 648x364.5 with 0 Axes>"
      ]
     },
     "metadata": {},
     "output_type": "display_data"
    },
    {
     "data": {
      "text/plain": [
       "<Figure size 648x364.5 with 0 Axes>"
      ]
     },
     "metadata": {},
     "output_type": "display_data"
    },
    {
     "data": {
      "text/plain": [
       "<Figure size 648x364.5 with 0 Axes>"
      ]
     },
     "metadata": {},
     "output_type": "display_data"
    },
    {
     "data": {
      "text/plain": [
       "<Figure size 648x364.5 with 0 Axes>"
      ]
     },
     "metadata": {},
     "output_type": "display_data"
    },
    {
     "data": {
      "text/plain": [
       "<Figure size 648x364.5 with 0 Axes>"
      ]
     },
     "metadata": {},
     "output_type": "display_data"
    },
    {
     "data": {
      "text/plain": [
       "<Figure size 648x364.5 with 0 Axes>"
      ]
     },
     "metadata": {},
     "output_type": "display_data"
    },
    {
     "data": {
      "text/plain": [
       "<Figure size 648x364.5 with 0 Axes>"
      ]
     },
     "metadata": {},
     "output_type": "display_data"
    },
    {
     "data": {
      "text/plain": [
       "<Figure size 648x364.5 with 0 Axes>"
      ]
     },
     "metadata": {},
     "output_type": "display_data"
    },
    {
     "data": {
      "text/plain": [
       "<Figure size 648x364.5 with 0 Axes>"
      ]
     },
     "metadata": {},
     "output_type": "display_data"
    },
    {
     "data": {
      "text/plain": [
       "<Figure size 648x364.5 with 0 Axes>"
      ]
     },
     "metadata": {},
     "output_type": "display_data"
    },
    {
     "data": {
      "text/plain": [
       "<Figure size 648x364.5 with 0 Axes>"
      ]
     },
     "metadata": {},
     "output_type": "display_data"
    },
    {
     "data": {
      "text/plain": [
       "<Figure size 648x364.5 with 0 Axes>"
      ]
     },
     "metadata": {},
     "output_type": "display_data"
    },
    {
     "data": {
      "text/plain": [
       "<Figure size 648x364.5 with 0 Axes>"
      ]
     },
     "metadata": {},
     "output_type": "display_data"
    },
    {
     "data": {
      "text/plain": [
       "<Figure size 648x364.5 with 0 Axes>"
      ]
     },
     "metadata": {},
     "output_type": "display_data"
    },
    {
     "data": {
      "text/plain": [
       "<Figure size 648x364.5 with 0 Axes>"
      ]
     },
     "metadata": {},
     "output_type": "display_data"
    },
    {
     "data": {
      "text/plain": [
       "<Figure size 648x364.5 with 0 Axes>"
      ]
     },
     "metadata": {},
     "output_type": "display_data"
    },
    {
     "data": {
      "text/plain": [
       "<Figure size 648x364.5 with 0 Axes>"
      ]
     },
     "metadata": {},
     "output_type": "display_data"
    },
    {
     "data": {
      "text/plain": [
       "<Figure size 648x364.5 with 0 Axes>"
      ]
     },
     "metadata": {},
     "output_type": "display_data"
    },
    {
     "data": {
      "text/plain": [
       "<Figure size 648x364.5 with 0 Axes>"
      ]
     },
     "metadata": {},
     "output_type": "display_data"
    },
    {
     "data": {
      "text/plain": [
       "<Figure size 648x364.5 with 0 Axes>"
      ]
     },
     "metadata": {},
     "output_type": "display_data"
    },
    {
     "data": {
      "text/plain": [
       "<Figure size 648x364.5 with 0 Axes>"
      ]
     },
     "metadata": {},
     "output_type": "display_data"
    },
    {
     "data": {
      "text/plain": [
       "<Figure size 648x364.5 with 0 Axes>"
      ]
     },
     "metadata": {},
     "output_type": "display_data"
    },
    {
     "data": {
      "text/plain": [
       "<Figure size 648x364.5 with 0 Axes>"
      ]
     },
     "metadata": {},
     "output_type": "display_data"
    },
    {
     "data": {
      "text/plain": [
       "<Figure size 648x364.5 with 0 Axes>"
      ]
     },
     "metadata": {},
     "output_type": "display_data"
    },
    {
     "data": {
      "text/plain": [
       "<Figure size 648x364.5 with 0 Axes>"
      ]
     },
     "metadata": {},
     "output_type": "display_data"
    },
    {
     "data": {
      "text/plain": [
       "<Figure size 648x364.5 with 0 Axes>"
      ]
     },
     "metadata": {},
     "output_type": "display_data"
    },
    {
     "data": {
      "text/plain": [
       "<Figure size 648x364.5 with 0 Axes>"
      ]
     },
     "metadata": {},
     "output_type": "display_data"
    },
    {
     "data": {
      "text/plain": [
       "<Figure size 648x364.5 with 0 Axes>"
      ]
     },
     "metadata": {},
     "output_type": "display_data"
    },
    {
     "data": {
      "text/plain": [
       "<Figure size 648x364.5 with 0 Axes>"
      ]
     },
     "metadata": {},
     "output_type": "display_data"
    },
    {
     "data": {
      "text/plain": [
       "<Figure size 648x364.5 with 0 Axes>"
      ]
     },
     "metadata": {},
     "output_type": "display_data"
    },
    {
     "data": {
      "text/plain": [
       "<Figure size 648x364.5 with 0 Axes>"
      ]
     },
     "metadata": {},
     "output_type": "display_data"
    }
   ],
   "source": [
    "# for loop to plot every city graph\n",
    "for i in range(81):\n",
    "    \n",
    "    city_name = data.city[data.index == i].item()\n",
    "    \n",
    "    general_asilanmayan = data_general[i,0] - data_general[i,1]\n",
    "    general_asilanan = data_general[i,1]\n",
    "    general = np.array([general_asilanmayan, general_asilanan])\n",
    "    vaccinated = data_vaccinated[i,:]\n",
    "    \n",
    "    asilanmayan_sayi = general[0]\n",
    "    asilanan_sayi = general[1]\n",
    "    \n",
    "    birinci_doz_olan_sayi = vaccinated[0]\n",
    "    ikinci_doz_olan_sayi = vaccinated[1]\n",
    "\n",
    "    # make figure and assign axis objects\n",
    "    fig = plt.figure(figsize=(9, 5), facecolor=(1, 1, 1))\n",
    "    ax1 = fig.add_subplot(121)\n",
    "    ax2 = fig.add_subplot(122)\n",
    "    fig.subplots_adjust(wspace=0)\n",
    "\n",
    "    # Pie chart parameters\n",
    "    ratios = [\n",
    "        (round((asilanan_sayi * 100) / general.sum())) / 100, \n",
    "        (round((asilanmayan_sayi * 100) / general.sum())) / 100\n",
    "    ]\n",
    "    labels = ['Aşılanan', 'Aşılanmayan']\n",
    "    explode = [0, 0.1]\n",
    "    # rotate so that first wedge is split by the x-axis\n",
    "    angle = -180 * ratios[0]\n",
    "    ax1.pie(ratios, autopct='%1.1f%%', startangle=angle, labels=labels, explode=explode)\n",
    "\n",
    "    # Bar chart parameters\n",
    "    xpos = 0\n",
    "    bottom = 0\n",
    "    ratios = [\n",
    "        (round((birinci_doz_olan_sayi * 100) / vaccinated.sum())) / 100, \n",
    "        (round((ikinci_doz_olan_sayi * 100) / vaccinated.sum())) / 100\n",
    "    ]\n",
    "    width = .2\n",
    "    colors = [[.6, .5, .9], [.5, .9, .5]]\n",
    "\n",
    "    for j in range(len(ratios)):\n",
    "        height = ratios[j]\n",
    "        ax2.bar(xpos, height, width, bottom=bottom, color=colors[j])\n",
    "        ypos = bottom + ax2.patches[j].get_height() / 2\n",
    "        bottom += height\n",
    "        ax2.text(xpos, ypos, \"%d%%\" % (ax2.patches[j].get_height() * 100), ha='center')\n",
    "\n",
    "    ax2.set_title(city_name.capitalize())\n",
    "    ax2.legend(('Bir doz', 'İki doz'))\n",
    "    ax2.axis('off')\n",
    "    ax2.set_xlim(- 2.5 * width, 2.5 * width)\n",
    "\n",
    "    # Using ConnectionPatch to draw lines between the two plots\n",
    "    # Getting the wedge data\n",
    "    theta1, theta2 = ax1.patches[0].theta1, ax1.patches[0].theta2\n",
    "    center, r = ax1.patches[0].center, ax1.patches[0].r\n",
    "    bar_height = sum([item.get_height() for item in ax2.patches])\n",
    "\n",
    "    # Drawing top connecting line\n",
    "    x = r * np.cos(np.pi / 180 * theta2) + center[0]\n",
    "    y = np.sin(np.pi / 180 * theta2) + center[1]\n",
    "    con = ConnectionPatch(\n",
    "        xyA=(- width / 2, bar_height), xyB=(x, y), \n",
    "        coordsA=\"data\", coordsB=\"data\", \n",
    "        axesA=ax2, axesB=ax1\n",
    "    )\n",
    "    con.set_color([0, 0, 0])\n",
    "    con.set_linewidth(4)\n",
    "    ax2.add_artist(con)\n",
    "\n",
    "    # Drawing bottom connecting line\n",
    "    x = r * np.cos(np.pi / 180 * theta1) + center[0]\n",
    "    y = np.sin(np.pi / 180 * theta1) + center[1]\n",
    "    \n",
    "    con = ConnectionPatch(\n",
    "        xyA=(- width / 2, 0), xyB=(x, y), \n",
    "        coordsA=\"data\", coordsB=\"data\", \n",
    "        axesA=ax2, axesB=ax1\n",
    "    )\n",
    "    \n",
    "    con.set_color([0, 0, 0])\n",
    "    ax2.add_artist(con)\n",
    "    con.set_linewidth(4)\n",
    "    \n",
    "    x = data.iloc[i,4]\n",
    "    y = data.iloc[i,1]\n",
    "    \n",
    "    ax1.annotate(\n",
    "    str(data.iloc[i,0]).capitalize() + ' geneli tam aşılama oranı: ' + str(round((x * 100) / y  , 1)), \n",
    "    xy=(0.05, 0.1), \n",
    "    xycoords='figure fraction', \n",
    "    horizontalalignment='left', \n",
    "    verticalalignment='top', \n",
    "    fontsize=12, \n",
    "    color='#555555')\n",
    "    \n",
    "    ax1.annotate(\n",
    "    '10 Mayıs', \n",
    "    xy=(0.05, 0.95), \n",
    "    xycoords='figure fraction', \n",
    "    horizontalalignment='left', \n",
    "    verticalalignment='top', \n",
    "    fontsize=15, \n",
    "    color='#000000')\n",
    "    \n",
    "    plt.savefig(\n",
    "        'graphs/' + data.city[data.index == i].item(), facecolor=fig.get_facecolor(), transparent=True\n",
    "    );\n",
    "    \n",
    "    plt.clf();\n",
    "#plt.show()"
   ]
  },
  {
   "cell_type": "raw",
   "metadata": {
    "jupyter": {
     "outputs_hidden": true,
     "source_hidden": true
    },
    "tags": []
   },
   "source": [
    "\"\"\"\n",
    "labels = ['İlk doz', 'İkinci doz']\n",
    "labels2 = ['Aşı Olmayan', 'Aşı Olan']\n",
    "explode = (0, 0.05)\n",
    "colors = ['#ff9999', '#99ff99']\n",
    "\n",
    "for i in range(81):\n",
    "    city_name = data.city[data.index == i].item()\n",
    "    \n",
    "    fig, ax = plt.subplots(2, 1, figsize=(12,10), facecolor='white');\n",
    "    \n",
    "    ax[0].set_title('29 Nisan ' + city_name.capitalize() + ' Genel Dağılım')\n",
    "    ax[1].set_title('29 Nisan ' + city_name.capitalize() + ' Aşılananlar Dağılım')\n",
    "    \n",
    "    general_asilanmayan = data_general[i,0] - data_general[i,1]\n",
    "    general_asilanan = data_general[i,1]\n",
    "    general = np.array([general_asilanmayan, general_asilanan])\n",
    "    vaccinated = data_vaccinated[i,:]\n",
    "    \n",
    "    ax[0].pie(general, explode=explode, colors=colors, shadow=True, labeldistance=1.2, pctdistance=0.5,\n",
    "              autopct=lambda p:'{:.2f}%\\n({:,})'.format(p,int((p/100)*general.sum())));\n",
    "    \n",
    "    ax[1].pie(vaccinated, explode=explode, colors=colors, shadow=True, labeldistance=1.2, pctdistance=0.5,\n",
    "              autopct=lambda p:'{:.2f}%\\n({:,})'.format(p,int((p/100)*vaccinated.sum())));\n",
    "    \n",
    "    \n",
    "    ax[0].legend(labels=labels2);\n",
    "    ax[1].legend(labels=labels);\n",
    "    plt.savefig('graphs/' + data.city[data.index == i].item(), facecolor=fig.get_facecolor(), transparent=True);\n",
    "    plt.clf();\n",
    "\"\"\""
   ]
  }
 ],
 "metadata": {
  "kernelspec": {
   "display_name": "Python 3",
   "language": "python",
   "name": "python3"
  },
  "language_info": {
   "codemirror_mode": {
    "name": "ipython",
    "version": 3
   },
   "file_extension": ".py",
   "mimetype": "text/x-python",
   "name": "python",
   "nbconvert_exporter": "python",
   "pygments_lexer": "ipython3",
   "version": "3.8.8"
  }
 },
 "nbformat": 4,
 "nbformat_minor": 4
}
