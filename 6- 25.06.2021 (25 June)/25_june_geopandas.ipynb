{
 "cells": [
  {
   "cell_type": "code",
   "execution_count": 1,
   "metadata": {
    "id": "h5eYKT-_PHEk"
   },
   "outputs": [],
   "source": [
    "import pandas as pd\n",
    "import matplotlib.pyplot as plt\n",
    "import geopandas as gpd\n",
    "import numpy as np\n",
    "\n",
    "import warnings\n",
    "warnings.filterwarnings('ignore')"
   ]
  },
  {
   "cell_type": "code",
   "execution_count": 2,
   "metadata": {},
   "outputs": [],
   "source": [
    "with open(\"./data/date.txt\", encoding = 'utf-8') as f:\n",
    "    date = f.read().split(\" \")"
   ]
  },
  {
   "cell_type": "code",
   "execution_count": 3,
   "metadata": {
    "id": "pgiwvjuYPHEq"
   },
   "outputs": [],
   "source": [
    "fp = './turkey_map/tur_polbnda_adm1.shp'"
   ]
  },
  {
   "cell_type": "code",
   "execution_count": 4,
   "metadata": {
    "id": "hRdoY6RXPHEq"
   },
   "outputs": [],
   "source": [
    "map_df = gpd.read_file(fp)"
   ]
  },
  {
   "cell_type": "code",
   "execution_count": 5,
   "metadata": {
    "colab": {
     "base_uri": "https://localhost:8080/",
     "height": 374
    },
    "id": "bhYKT7bTPHEr",
    "outputId": "ee733d9c-169b-4d1b-8e37-11ba8ca5d5f6"
   },
   "outputs": [
    {
     "data": {
      "text/html": [
       "<div>\n",
       "<style scoped>\n",
       "    .dataframe tbody tr th:only-of-type {\n",
       "        vertical-align: middle;\n",
       "    }\n",
       "\n",
       "    .dataframe tbody tr th {\n",
       "        vertical-align: top;\n",
       "    }\n",
       "\n",
       "    .dataframe thead th {\n",
       "        text-align: right;\n",
       "    }\n",
       "</style>\n",
       "<table border=\"1\" class=\"dataframe\">\n",
       "  <thead>\n",
       "    <tr style=\"text-align: right;\">\n",
       "      <th></th>\n",
       "      <th>adm1_tr</th>\n",
       "      <th>adm1_en</th>\n",
       "      <th>adm1</th>\n",
       "      <th>Shape_Leng</th>\n",
       "      <th>Shape_Area</th>\n",
       "      <th>adm0_en</th>\n",
       "      <th>adm0_tr</th>\n",
       "      <th>adm0</th>\n",
       "      <th>geometry</th>\n",
       "    </tr>\n",
       "  </thead>\n",
       "  <tbody>\n",
       "    <tr>\n",
       "      <th>0</th>\n",
       "      <td>ADANA</td>\n",
       "      <td>ADANA</td>\n",
       "      <td>TUR001</td>\n",
       "      <td>8.271786</td>\n",
       "      <td>1.407083</td>\n",
       "      <td>TURKEY</td>\n",
       "      <td>TÜRKİYE</td>\n",
       "      <td>TUR</td>\n",
       "      <td>POLYGON ((36.31587 38.36376, 36.31769 38.36367...</td>\n",
       "    </tr>\n",
       "    <tr>\n",
       "      <th>1</th>\n",
       "      <td>ADIYAMAN</td>\n",
       "      <td>ADIYAMAN</td>\n",
       "      <td>TUR002</td>\n",
       "      <td>5.494422</td>\n",
       "      <td>0.750561</td>\n",
       "      <td>TURKEY</td>\n",
       "      <td>TÜRKİYE</td>\n",
       "      <td>TUR</td>\n",
       "      <td>POLYGON ((39.25297 38.18188, 39.25334 38.18159...</td>\n",
       "    </tr>\n",
       "    <tr>\n",
       "      <th>2</th>\n",
       "      <td>AFYONKARAHİSAR</td>\n",
       "      <td>AFYONKARAHISAR</td>\n",
       "      <td>TUR003</td>\n",
       "      <td>7.149996</td>\n",
       "      <td>1.450064</td>\n",
       "      <td>TURKEY</td>\n",
       "      <td>TÜRKİYE</td>\n",
       "      <td>TUR</td>\n",
       "      <td>POLYGON ((31.14797 39.26246, 31.15825 39.25753...</td>\n",
       "    </tr>\n",
       "    <tr>\n",
       "      <th>3</th>\n",
       "      <td>AĞRI</td>\n",
       "      <td>AGRI</td>\n",
       "      <td>TUR004</td>\n",
       "      <td>6.588304</td>\n",
       "      <td>1.163170</td>\n",
       "      <td>TURKEY</td>\n",
       "      <td>TÜRKİYE</td>\n",
       "      <td>TUR</td>\n",
       "      <td>POLYGON ((43.28706 40.01281, 43.29129 40.00884...</td>\n",
       "    </tr>\n",
       "    <tr>\n",
       "      <th>4</th>\n",
       "      <td>AKSARAY</td>\n",
       "      <td>AKSARAY</td>\n",
       "      <td>TUR068</td>\n",
       "      <td>4.432509</td>\n",
       "      <td>0.790388</td>\n",
       "      <td>TURKEY</td>\n",
       "      <td>TÜRKİYE</td>\n",
       "      <td>TUR</td>\n",
       "      <td>POLYGON ((33.96446 39.03804, 33.96453 39.03723...</td>\n",
       "    </tr>\n",
       "  </tbody>\n",
       "</table>\n",
       "</div>"
      ],
      "text/plain": [
       "          adm1_tr         adm1_en    adm1  Shape_Leng  Shape_Area adm0_en  \\\n",
       "0           ADANA           ADANA  TUR001    8.271786    1.407083  TURKEY   \n",
       "1        ADIYAMAN        ADIYAMAN  TUR002    5.494422    0.750561  TURKEY   \n",
       "2  AFYONKARAHİSAR  AFYONKARAHISAR  TUR003    7.149996    1.450064  TURKEY   \n",
       "3            AĞRI            AGRI  TUR004    6.588304    1.163170  TURKEY   \n",
       "4         AKSARAY         AKSARAY  TUR068    4.432509    0.790388  TURKEY   \n",
       "\n",
       "   adm0_tr adm0                                           geometry  \n",
       "0  TÜRKİYE  TUR  POLYGON ((36.31587 38.36376, 36.31769 38.36367...  \n",
       "1  TÜRKİYE  TUR  POLYGON ((39.25297 38.18188, 39.25334 38.18159...  \n",
       "2  TÜRKİYE  TUR  POLYGON ((31.14797 39.26246, 31.15825 39.25753...  \n",
       "3  TÜRKİYE  TUR  POLYGON ((43.28706 40.01281, 43.29129 40.00884...  \n",
       "4  TÜRKİYE  TUR  POLYGON ((33.96446 39.03804, 33.96453 39.03723...  "
      ]
     },
     "execution_count": 5,
     "metadata": {},
     "output_type": "execute_result"
    }
   ],
   "source": [
    "# Inspecting\n",
    "map_df.head()"
   ]
  },
  {
   "cell_type": "code",
   "execution_count": 6,
   "metadata": {
    "colab": {
     "base_uri": "https://localhost:8080/",
     "height": 189
    },
    "id": "X13ZSeUuPHEr",
    "outputId": "d608713a-4ea3-4310-ffd4-7ea180ae46c0"
   },
   "outputs": [
    {
     "data": {
      "image/png": "[encoded data removed]",
      "text/plain": [
       "<Figure size 432x288 with 1 Axes>"
      ]
     },
     "metadata": {
      "needs_background": "light"
     },
     "output_type": "display_data"
    }
   ],
   "source": [
    "map_df.plot();"
   ]
  },
  {
   "cell_type": "code",
   "execution_count": 7,
   "metadata": {
    "id": "V2Rr3UgLPHEs"
   },
   "outputs": [],
   "source": [
    "data = pd.read_csv(\"./data/25_june_vaccination_data.csv\")\n",
    "tr_population = pd.read_excel('./data/tr-population-by-years.xls')"
   ]
  },
  {
   "cell_type": "code",
   "execution_count": 8,
   "metadata": {
    "colab": {
     "base_uri": "https://localhost:8080/",
     "height": 411
    },
    "id": "UMCYp2jiPHEs",
    "outputId": "e42a5546-0aa6-4d8e-ffcf-0fee76470122"
   },
   "outputs": [
    {
     "data": {
      "text/html": [
       "<div>\n",
       "<style scoped>\n",
       "    .dataframe tbody tr th:only-of-type {\n",
       "        vertical-align: middle;\n",
       "    }\n",
       "\n",
       "    .dataframe tbody tr th {\n",
       "        vertical-align: top;\n",
       "    }\n",
       "\n",
       "    .dataframe thead th {\n",
       "        text-align: right;\n",
       "    }\n",
       "</style>\n",
       "<table border=\"1\" class=\"dataframe\">\n",
       "  <thead>\n",
       "    <tr style=\"text-align: right;\">\n",
       "      <th></th>\n",
       "      <th>city</th>\n",
       "      <th>total</th>\n",
       "      <th>first_</th>\n",
       "      <th>second_</th>\n",
       "    </tr>\n",
       "  </thead>\n",
       "  <tbody>\n",
       "    <tr>\n",
       "      <th>0</th>\n",
       "      <td>adana</td>\n",
       "      <td>1124987</td>\n",
       "      <td>770508</td>\n",
       "      <td>354479</td>\n",
       "    </tr>\n",
       "    <tr>\n",
       "      <th>1</th>\n",
       "      <td>adıyaman</td>\n",
       "      <td>246054</td>\n",
       "      <td>168288</td>\n",
       "      <td>77766</td>\n",
       "    </tr>\n",
       "    <tr>\n",
       "      <th>2</th>\n",
       "      <td>afyon</td>\n",
       "      <td>425981</td>\n",
       "      <td>287432</td>\n",
       "      <td>138549</td>\n",
       "    </tr>\n",
       "    <tr>\n",
       "      <th>3</th>\n",
       "      <td>ağrı</td>\n",
       "      <td>133667</td>\n",
       "      <td>92686</td>\n",
       "      <td>40981</td>\n",
       "    </tr>\n",
       "    <tr>\n",
       "      <th>4</th>\n",
       "      <td>amasya</td>\n",
       "      <td>253768</td>\n",
       "      <td>166692</td>\n",
       "      <td>87076</td>\n",
       "    </tr>\n",
       "  </tbody>\n",
       "</table>\n",
       "</div>"
      ],
      "text/plain": [
       "       city    total  first_  second_\n",
       "0     adana  1124987  770508   354479\n",
       "1  adıyaman   246054  168288    77766\n",
       "2     afyon   425981  287432   138549\n",
       "3      ağrı   133667   92686    40981\n",
       "4    amasya   253768  166692    87076"
      ]
     },
     "metadata": {},
     "output_type": "display_data"
    },
    {
     "data": {
      "text/html": [
       "<div>\n",
       "<style scoped>\n",
       "    .dataframe tbody tr th:only-of-type {\n",
       "        vertical-align: middle;\n",
       "    }\n",
       "\n",
       "    .dataframe tbody tr th {\n",
       "        vertical-align: top;\n",
       "    }\n",
       "\n",
       "    .dataframe thead th {\n",
       "        text-align: right;\n",
       "    }\n",
       "</style>\n",
       "<table border=\"1\" class=\"dataframe\">\n",
       "  <thead>\n",
       "    <tr style=\"text-align: right;\">\n",
       "      <th></th>\n",
       "      <th>Category</th>\n",
       "      <th>2000</th>\n",
       "      <th>2001</th>\n",
       "      <th>2002</th>\n",
       "      <th>2003</th>\n",
       "      <th>2004</th>\n",
       "      <th>2005</th>\n",
       "      <th>2006</th>\n",
       "      <th>2007</th>\n",
       "      <th>2008</th>\n",
       "      <th>...</th>\n",
       "      <th>2011</th>\n",
       "      <th>2012</th>\n",
       "      <th>2013</th>\n",
       "      <th>2014</th>\n",
       "      <th>2015</th>\n",
       "      <th>2016</th>\n",
       "      <th>2017</th>\n",
       "      <th>2018</th>\n",
       "      <th>2019</th>\n",
       "      <th>2020</th>\n",
       "    </tr>\n",
       "  </thead>\n",
       "  <tbody>\n",
       "    <tr>\n",
       "      <th>0</th>\n",
       "      <td>Toplam-Total</td>\n",
       "      <td>64729501</td>\n",
       "      <td>65603160.0</td>\n",
       "      <td>66401851.0</td>\n",
       "      <td>67187251.0</td>\n",
       "      <td>68010215.0</td>\n",
       "      <td>68860539.0</td>\n",
       "      <td>69729967.0</td>\n",
       "      <td>70586256</td>\n",
       "      <td>71517100</td>\n",
       "      <td>...</td>\n",
       "      <td>74724269</td>\n",
       "      <td>75627384</td>\n",
       "      <td>76667864</td>\n",
       "      <td>77695904</td>\n",
       "      <td>78741053</td>\n",
       "      <td>79814871</td>\n",
       "      <td>80810525</td>\n",
       "      <td>82003882</td>\n",
       "      <td>83154997</td>\n",
       "      <td>83614362</td>\n",
       "    </tr>\n",
       "    <tr>\n",
       "      <th>1</th>\n",
       "      <td>Adana</td>\n",
       "      <td>1879695</td>\n",
       "      <td>1899324.0</td>\n",
       "      <td>1916637.0</td>\n",
       "      <td>1933428.0</td>\n",
       "      <td>1951142.0</td>\n",
       "      <td>1969512.0</td>\n",
       "      <td>1988277.0</td>\n",
       "      <td>2006650</td>\n",
       "      <td>2026319</td>\n",
       "      <td>...</td>\n",
       "      <td>2108805</td>\n",
       "      <td>2125635</td>\n",
       "      <td>2149260</td>\n",
       "      <td>2165595</td>\n",
       "      <td>2183167</td>\n",
       "      <td>2201670</td>\n",
       "      <td>2216475</td>\n",
       "      <td>2220125</td>\n",
       "      <td>2237940</td>\n",
       "      <td>2258718</td>\n",
       "    </tr>\n",
       "    <tr>\n",
       "      <th>2</th>\n",
       "      <td>Adıyaman</td>\n",
       "      <td>568432</td>\n",
       "      <td>571180.0</td>\n",
       "      <td>573149.0</td>\n",
       "      <td>574886.0</td>\n",
       "      <td>576808.0</td>\n",
       "      <td>578852.0</td>\n",
       "      <td>580926.0</td>\n",
       "      <td>582762</td>\n",
       "      <td>585067</td>\n",
       "      <td>...</td>\n",
       "      <td>593931</td>\n",
       "      <td>595261</td>\n",
       "      <td>597184</td>\n",
       "      <td>597835</td>\n",
       "      <td>602774</td>\n",
       "      <td>610484</td>\n",
       "      <td>615076</td>\n",
       "      <td>624513</td>\n",
       "      <td>626465</td>\n",
       "      <td>632459</td>\n",
       "    </tr>\n",
       "    <tr>\n",
       "      <th>3</th>\n",
       "      <td>Afyonkarahisar</td>\n",
       "      <td>696292</td>\n",
       "      <td>698029.0</td>\n",
       "      <td>698773.0</td>\n",
       "      <td>699193.0</td>\n",
       "      <td>699794.0</td>\n",
       "      <td>700502.0</td>\n",
       "      <td>701204.0</td>\n",
       "      <td>701572</td>\n",
       "      <td>697365</td>\n",
       "      <td>...</td>\n",
       "      <td>698626</td>\n",
       "      <td>703948</td>\n",
       "      <td>707123</td>\n",
       "      <td>706371</td>\n",
       "      <td>709015</td>\n",
       "      <td>714523</td>\n",
       "      <td>715693</td>\n",
       "      <td>725568</td>\n",
       "      <td>729483</td>\n",
       "      <td>736912</td>\n",
       "    </tr>\n",
       "    <tr>\n",
       "      <th>4</th>\n",
       "      <td>Ağrı</td>\n",
       "      <td>519190</td>\n",
       "      <td>521514.0</td>\n",
       "      <td>523123.0</td>\n",
       "      <td>524514.0</td>\n",
       "      <td>526070.0</td>\n",
       "      <td>527732.0</td>\n",
       "      <td>529417.0</td>\n",
       "      <td>530879</td>\n",
       "      <td>532180</td>\n",
       "      <td>...</td>\n",
       "      <td>555479</td>\n",
       "      <td>552404</td>\n",
       "      <td>551177</td>\n",
       "      <td>549435</td>\n",
       "      <td>547210</td>\n",
       "      <td>542255</td>\n",
       "      <td>536285</td>\n",
       "      <td>539657</td>\n",
       "      <td>536199</td>\n",
       "      <td>535435</td>\n",
       "    </tr>\n",
       "  </tbody>\n",
       "</table>\n",
       "<p>5 rows × 22 columns</p>\n",
       "</div>"
      ],
      "text/plain": [
       "         Category      2000        2001        2002        2003        2004  \\\n",
       "0    Toplam-Total  64729501  65603160.0  66401851.0  67187251.0  68010215.0   \n",
       "1           Adana   1879695   1899324.0   1916637.0   1933428.0   1951142.0   \n",
       "2        Adıyaman    568432    571180.0    573149.0    574886.0    576808.0   \n",
       "3  Afyonkarahisar    696292    698029.0    698773.0    699193.0    699794.0   \n",
       "4            Ağrı    519190    521514.0    523123.0    524514.0    526070.0   \n",
       "\n",
       "         2005        2006      2007      2008  ...      2011      2012  \\\n",
       "0  68860539.0  69729967.0  70586256  71517100  ...  74724269  75627384   \n",
       "1   1969512.0   1988277.0   2006650   2026319  ...   2108805   2125635   \n",
       "2    578852.0    580926.0    582762    585067  ...    593931    595261   \n",
       "3    700502.0    701204.0    701572    697365  ...    698626    703948   \n",
       "4    527732.0    529417.0    530879    532180  ...    555479    552404   \n",
       "\n",
       "       2013      2014      2015      2016      2017      2018      2019  \\\n",
       "0  76667864  77695904  78741053  79814871  80810525  82003882  83154997   \n",
       "1   2149260   2165595   2183167   2201670   2216475   2220125   2237940   \n",
       "2    597184    597835    602774    610484    615076    624513    626465   \n",
       "3    707123    706371    709015    714523    715693    725568    729483   \n",
       "4    551177    549435    547210    542255    536285    539657    536199   \n",
       "\n",
       "       2020  \n",
       "0  83614362  \n",
       "1   2258718  \n",
       "2    632459  \n",
       "3    736912  \n",
       "4    535435  \n",
       "\n",
       "[5 rows x 22 columns]"
      ]
     },
     "metadata": {},
     "output_type": "display_data"
    }
   ],
   "source": [
    "display(data.head())\n",
    "display(tr_population.head())"
   ]
  },
  {
   "cell_type": "code",
   "execution_count": 9,
   "metadata": {
    "id": "EkO6ghM0PHEt"
   },
   "outputs": [],
   "source": [
    "df_city_populations = tr_population.iloc[1:, [0,21]] # Filtering the columns [city, 2020]\n",
    "df_city_populations.columns = ['city', 2020] # Updating the column name\n",
    "\n",
    "# Updating the city names\n",
    "df_city_populations.city = df_city_populations.city.str.replace('İ', 'I')\n",
    "df_city_populations.city = df_city_populations.city.str.replace('ı', 'i')\n",
    "\n",
    "df_city_populations.city = df_city_populations.city.str.replace('Ğ', 'G')\n",
    "df_city_populations.city = df_city_populations.city.str.replace('ğ', 'g')\n",
    "\n",
    "df_city_populations.city = df_city_populations.city.str.replace('ü', 'u')\n",
    "df_city_populations.city = df_city_populations.city.str.replace('Ü', 'U')\n",
    "\n",
    "df_city_populations.city = df_city_populations.city.str.replace('ö', 'o')\n",
    "df_city_populations.city = df_city_populations.city.str.replace('Ö', 'O')\n",
    "\n",
    "df_city_populations.city = df_city_populations.city.str.replace('ş', 's')\n",
    "df_city_populations.city = df_city_populations.city.str.replace('Ş', 'S')\n",
    "\n",
    "df_city_populations.city = df_city_populations.city.str.replace('ç', 'c')\n",
    "df_city_populations.city = df_city_populations.city.str.replace('Ç', 'C')"
   ]
  },
  {
   "cell_type": "code",
   "execution_count": 10,
   "metadata": {
    "id": "qq4-4BdxPHEv"
   },
   "outputs": [],
   "source": [
    "# Updating the city names\n",
    "data.city = data.city.str.replace('İ', 'I')\n",
    "data.city = data.city.str.replace('ı', 'i')\n",
    "\n",
    "data.city = data.city.str.replace('Ğ', 'G')\n",
    "data.city = data.city.str.replace('ğ', 'g')\n",
    "\n",
    "data.city = data.city.str.replace('ü', 'u')\n",
    "data.city = data.city.str.replace('Ü', 'U')\n",
    "\n",
    "data.city = data.city.str.replace('ö', 'o')\n",
    "data.city = data.city.str.replace('Ö', 'O')\n",
    "\n",
    "data.city = data.city.str.replace('ş', 's')\n",
    "data.city = data.city.str.replace('Ş', 'S')\n",
    "\n",
    "data.city = data.city.str.replace('ç', 'c')\n",
    "data.city = data.city.str.replace('Ç', 'C')"
   ]
  },
  {
   "cell_type": "code",
   "execution_count": 11,
   "metadata": {
    "colab": {
     "base_uri": "https://localhost:8080/",
     "height": 204
    },
    "id": "1BrL5sEcPHEx",
    "outputId": "ddf76d97-f89f-411f-cfd6-b728a43be844"
   },
   "outputs": [
    {
     "data": {
      "text/html": [
       "<div>\n",
       "<style scoped>\n",
       "    .dataframe tbody tr th:only-of-type {\n",
       "        vertical-align: middle;\n",
       "    }\n",
       "\n",
       "    .dataframe tbody tr th {\n",
       "        vertical-align: top;\n",
       "    }\n",
       "\n",
       "    .dataframe thead th {\n",
       "        text-align: right;\n",
       "    }\n",
       "</style>\n",
       "<table border=\"1\" class=\"dataframe\">\n",
       "  <thead>\n",
       "    <tr style=\"text-align: right;\">\n",
       "      <th></th>\n",
       "      <th>city</th>\n",
       "      <th>total</th>\n",
       "      <th>first_</th>\n",
       "      <th>second_</th>\n",
       "    </tr>\n",
       "  </thead>\n",
       "  <tbody>\n",
       "    <tr>\n",
       "      <th>0</th>\n",
       "      <td>adana</td>\n",
       "      <td>1124987</td>\n",
       "      <td>770508</td>\n",
       "      <td>354479</td>\n",
       "    </tr>\n",
       "    <tr>\n",
       "      <th>1</th>\n",
       "      <td>adiyaman</td>\n",
       "      <td>246054</td>\n",
       "      <td>168288</td>\n",
       "      <td>77766</td>\n",
       "    </tr>\n",
       "    <tr>\n",
       "      <th>2</th>\n",
       "      <td>afyon</td>\n",
       "      <td>425981</td>\n",
       "      <td>287432</td>\n",
       "      <td>138549</td>\n",
       "    </tr>\n",
       "    <tr>\n",
       "      <th>3</th>\n",
       "      <td>agri</td>\n",
       "      <td>133667</td>\n",
       "      <td>92686</td>\n",
       "      <td>40981</td>\n",
       "    </tr>\n",
       "    <tr>\n",
       "      <th>4</th>\n",
       "      <td>amasya</td>\n",
       "      <td>253768</td>\n",
       "      <td>166692</td>\n",
       "      <td>87076</td>\n",
       "    </tr>\n",
       "  </tbody>\n",
       "</table>\n",
       "</div>"
      ],
      "text/plain": [
       "       city    total  first_  second_\n",
       "0     adana  1124987  770508   354479\n",
       "1  adiyaman   246054  168288    77766\n",
       "2     afyon   425981  287432   138549\n",
       "3      agri   133667   92686    40981\n",
       "4    amasya   253768  166692    87076"
      ]
     },
     "execution_count": 11,
     "metadata": {},
     "output_type": "execute_result"
    }
   ],
   "source": [
    "data.head()"
   ]
  },
  {
   "cell_type": "code",
   "execution_count": 12,
   "metadata": {
    "id": "0BW13LLWPHEx"
   },
   "outputs": [],
   "source": [
    "# Formatting the city names\n",
    "df_city_populations.city = df_city_populations.city.str.upper()\n",
    "data.city = data.city.str.upper()"
   ]
  },
  {
   "cell_type": "code",
   "execution_count": 13,
   "metadata": {
    "id": "b98XXDUZPHEy"
   },
   "outputs": [],
   "source": [
    "# Updating a specific value for making both value same for both data\n",
    "data.city[data.city == 'AFYON'] = 'AFYONKARAHISAR'\n",
    "data.city[data.city == 'İSTANBUL'] = 'ISTANBUL'\n",
    "data.city[data.city == 'İZMİR'] = 'IZMIR'"
   ]
  },
  {
   "cell_type": "code",
   "execution_count": 14,
   "metadata": {
    "id": "rC0oeXoJPHEy"
   },
   "outputs": [],
   "source": [
    "# Checking if there is different values in city column for both data\n",
    "for i,j in zip(df_city_populations.city, data.city):\n",
    "    if i != j:\n",
    "        print(i, j)"
   ]
  },
  {
   "cell_type": "code",
   "execution_count": 15,
   "metadata": {
    "colab": {
     "base_uri": "https://localhost:8080/"
    },
    "id": "TzRfsYenPHEz",
    "outputId": "18b050ab-b780-42f1-9af2-627498481c54"
   },
   "outputs": [
    {
     "name": "stdout",
     "output_type": "stream",
     "text": [
      "(81, 4)\n",
      "(81, 2)\n"
     ]
    }
   ],
   "source": [
    "# Checking the shape of the both data\n",
    "print(data.shape)\n",
    "print(df_city_populations.shape)"
   ]
  },
  {
   "cell_type": "code",
   "execution_count": 16,
   "metadata": {
    "id": "kl2pl8VmPHEz"
   },
   "outputs": [],
   "source": [
    "# Merging two data frames on the city column\n",
    "df = data.merge(df_city_populations)"
   ]
  },
  {
   "cell_type": "code",
   "execution_count": 17,
   "metadata": {
    "colab": {
     "base_uri": "https://localhost:8080/",
     "height": 80
    },
    "id": "A3-I0ycNPHEz",
    "outputId": "b072dcf6-b42a-4011-bce3-61969ed56f3e"
   },
   "outputs": [
    {
     "data": {
      "text/html": [
       "<div>\n",
       "<style scoped>\n",
       "    .dataframe tbody tr th:only-of-type {\n",
       "        vertical-align: middle;\n",
       "    }\n",
       "\n",
       "    .dataframe tbody tr th {\n",
       "        vertical-align: top;\n",
       "    }\n",
       "\n",
       "    .dataframe thead th {\n",
       "        text-align: right;\n",
       "    }\n",
       "</style>\n",
       "<table border=\"1\" class=\"dataframe\">\n",
       "  <thead>\n",
       "    <tr style=\"text-align: right;\">\n",
       "      <th></th>\n",
       "      <th>city</th>\n",
       "      <th>first_</th>\n",
       "      <th>second_</th>\n",
       "      <th>2020</th>\n",
       "    </tr>\n",
       "  </thead>\n",
       "  <tbody>\n",
       "    <tr>\n",
       "      <th>0</th>\n",
       "      <td>total</td>\n",
       "      <td>46246511</td>\n",
       "      <td>31484599</td>\n",
       "      <td>14761912</td>\n",
       "    </tr>\n",
       "  </tbody>\n",
       "</table>\n",
       "</div>"
      ],
      "text/plain": [
       "    city    first_   second_      2020\n",
       "0  total  46246511  31484599  14761912"
      ]
     },
     "execution_count": 17,
     "metadata": {},
     "output_type": "execute_result"
    }
   ],
   "source": [
    "# Creating a dataframe that contains the total column values for Turkey general\n",
    "total_df = pd.DataFrame({'city': 'total', 'first_': df.iloc[:,1].sum(), 'second_': df.iloc[:,2].sum(), 2020: df.iloc[:,3].sum()}, index=[0])\n",
    "total_df"
   ]
  },
  {
   "cell_type": "code",
   "execution_count": 18,
   "metadata": {
    "colab": {
     "base_uri": "https://localhost:8080/",
     "height": 204
    },
    "id": "1428H3VFPHE0",
    "outputId": "9a5156a1-2e58-4489-99e3-d5f8518dc5ed"
   },
   "outputs": [
    {
     "data": {
      "text/html": [
       "<div>\n",
       "<style scoped>\n",
       "    .dataframe tbody tr th:only-of-type {\n",
       "        vertical-align: middle;\n",
       "    }\n",
       "\n",
       "    .dataframe tbody tr th {\n",
       "        vertical-align: top;\n",
       "    }\n",
       "\n",
       "    .dataframe thead th {\n",
       "        text-align: right;\n",
       "    }\n",
       "</style>\n",
       "<table border=\"1\" class=\"dataframe\">\n",
       "  <thead>\n",
       "    <tr style=\"text-align: right;\">\n",
       "      <th></th>\n",
       "      <th>city</th>\n",
       "      <th>total</th>\n",
       "      <th>first_</th>\n",
       "      <th>second_</th>\n",
       "      <th>2020</th>\n",
       "    </tr>\n",
       "  </thead>\n",
       "  <tbody>\n",
       "    <tr>\n",
       "      <th>0</th>\n",
       "      <td>ADANA</td>\n",
       "      <td>1124987</td>\n",
       "      <td>770508</td>\n",
       "      <td>354479</td>\n",
       "      <td>2258718</td>\n",
       "    </tr>\n",
       "    <tr>\n",
       "      <th>1</th>\n",
       "      <td>ADIYAMAN</td>\n",
       "      <td>246054</td>\n",
       "      <td>168288</td>\n",
       "      <td>77766</td>\n",
       "      <td>632459</td>\n",
       "    </tr>\n",
       "    <tr>\n",
       "      <th>2</th>\n",
       "      <td>AFYONKARAHISAR</td>\n",
       "      <td>425981</td>\n",
       "      <td>287432</td>\n",
       "      <td>138549</td>\n",
       "      <td>736912</td>\n",
       "    </tr>\n",
       "    <tr>\n",
       "      <th>3</th>\n",
       "      <td>AGRI</td>\n",
       "      <td>133667</td>\n",
       "      <td>92686</td>\n",
       "      <td>40981</td>\n",
       "      <td>535435</td>\n",
       "    </tr>\n",
       "    <tr>\n",
       "      <th>4</th>\n",
       "      <td>AMASYA</td>\n",
       "      <td>253768</td>\n",
       "      <td>166692</td>\n",
       "      <td>87076</td>\n",
       "      <td>335494</td>\n",
       "    </tr>\n",
       "  </tbody>\n",
       "</table>\n",
       "</div>"
      ],
      "text/plain": [
       "             city    total  first_  second_     2020\n",
       "0           ADANA  1124987  770508   354479  2258718\n",
       "1        ADIYAMAN   246054  168288    77766   632459\n",
       "2  AFYONKARAHISAR   425981  287432   138549   736912\n",
       "3            AGRI   133667   92686    40981   535435\n",
       "4          AMASYA   253768  166692    87076   335494"
      ]
     },
     "metadata": {},
     "output_type": "display_data"
    }
   ],
   "source": [
    "display(df.head())"
   ]
  },
  {
   "cell_type": "code",
   "execution_count": 19,
   "metadata": {
    "id": "1mHD3HKqPHE0"
   },
   "outputs": [],
   "source": [
    "# Percentage column for every city, (Second * 100 / Total)\n",
    "percentage = round((df['second_'] * 100) / df[2020], 2)"
   ]
  },
  {
   "cell_type": "code",
   "execution_count": 20,
   "metadata": {
    "id": "QmgzNlX5PHE0"
   },
   "outputs": [],
   "source": [
    "df['percentage'] = percentage"
   ]
  },
  {
   "cell_type": "code",
   "execution_count": 21,
   "metadata": {
    "colab": {
     "base_uri": "https://localhost:8080/",
     "height": 204
    },
    "id": "7pRzXELDPHE1",
    "outputId": "069ce22a-8c20-41d0-bcbd-e3c20067abbb"
   },
   "outputs": [
    {
     "data": {
      "text/html": [
       "<div>\n",
       "<style scoped>\n",
       "    .dataframe tbody tr th:only-of-type {\n",
       "        vertical-align: middle;\n",
       "    }\n",
       "\n",
       "    .dataframe tbody tr th {\n",
       "        vertical-align: top;\n",
       "    }\n",
       "\n",
       "    .dataframe thead th {\n",
       "        text-align: right;\n",
       "    }\n",
       "</style>\n",
       "<table border=\"1\" class=\"dataframe\">\n",
       "  <thead>\n",
       "    <tr style=\"text-align: right;\">\n",
       "      <th></th>\n",
       "      <th>city</th>\n",
       "      <th>total</th>\n",
       "      <th>first_</th>\n",
       "      <th>second_</th>\n",
       "      <th>2020</th>\n",
       "      <th>percentage</th>\n",
       "    </tr>\n",
       "  </thead>\n",
       "  <tbody>\n",
       "    <tr>\n",
       "      <th>0</th>\n",
       "      <td>ADANA</td>\n",
       "      <td>1124987</td>\n",
       "      <td>770508</td>\n",
       "      <td>354479</td>\n",
       "      <td>2258718</td>\n",
       "      <td>15.69</td>\n",
       "    </tr>\n",
       "    <tr>\n",
       "      <th>1</th>\n",
       "      <td>ADIYAMAN</td>\n",
       "      <td>246054</td>\n",
       "      <td>168288</td>\n",
       "      <td>77766</td>\n",
       "      <td>632459</td>\n",
       "      <td>12.30</td>\n",
       "    </tr>\n",
       "    <tr>\n",
       "      <th>2</th>\n",
       "      <td>AFYONKARAHISAR</td>\n",
       "      <td>425981</td>\n",
       "      <td>287432</td>\n",
       "      <td>138549</td>\n",
       "      <td>736912</td>\n",
       "      <td>18.80</td>\n",
       "    </tr>\n",
       "    <tr>\n",
       "      <th>3</th>\n",
       "      <td>AGRI</td>\n",
       "      <td>133667</td>\n",
       "      <td>92686</td>\n",
       "      <td>40981</td>\n",
       "      <td>535435</td>\n",
       "      <td>7.65</td>\n",
       "    </tr>\n",
       "    <tr>\n",
       "      <th>4</th>\n",
       "      <td>AMASYA</td>\n",
       "      <td>253768</td>\n",
       "      <td>166692</td>\n",
       "      <td>87076</td>\n",
       "      <td>335494</td>\n",
       "      <td>25.95</td>\n",
       "    </tr>\n",
       "  </tbody>\n",
       "</table>\n",
       "</div>"
      ],
      "text/plain": [
       "             city    total  first_  second_     2020  percentage\n",
       "0           ADANA  1124987  770508   354479  2258718       15.69\n",
       "1        ADIYAMAN   246054  168288    77766   632459       12.30\n",
       "2  AFYONKARAHISAR   425981  287432   138549   736912       18.80\n",
       "3            AGRI   133667   92686    40981   535435        7.65\n",
       "4          AMASYA   253768  166692    87076   335494       25.95"
      ]
     },
     "metadata": {},
     "output_type": "display_data"
    }
   ],
   "source": [
    "display(df.head())"
   ]
  },
  {
   "cell_type": "code",
   "execution_count": 22,
   "metadata": {
    "id": "6nJ0aMaLPHE1"
   },
   "outputs": [],
   "source": [
    "# Final dataframe, columns that i need only\n",
    "asilananlar_df = df[['city', 'percentage']]"
   ]
  },
  {
   "cell_type": "code",
   "execution_count": 23,
   "metadata": {
    "id": "bPBSlX-lPHE1"
   },
   "outputs": [],
   "source": [
    "# Making city names equivalent\n",
    "asilananlar_df.city = asilananlar_df.city.copy().str.upper()"
   ]
  },
  {
   "cell_type": "code",
   "execution_count": 24,
   "metadata": {
    "colab": {
     "base_uri": "https://localhost:8080/",
     "height": 204
    },
    "id": "knVvi6ioPHE1",
    "outputId": "2b2a26d2-d642-4dd0-8d31-be8b47e37829"
   },
   "outputs": [
    {
     "data": {
      "text/html": [
       "<div>\n",
       "<style scoped>\n",
       "    .dataframe tbody tr th:only-of-type {\n",
       "        vertical-align: middle;\n",
       "    }\n",
       "\n",
       "    .dataframe tbody tr th {\n",
       "        vertical-align: top;\n",
       "    }\n",
       "\n",
       "    .dataframe thead th {\n",
       "        text-align: right;\n",
       "    }\n",
       "</style>\n",
       "<table border=\"1\" class=\"dataframe\">\n",
       "  <thead>\n",
       "    <tr style=\"text-align: right;\">\n",
       "      <th></th>\n",
       "      <th>city</th>\n",
       "      <th>percentage</th>\n",
       "    </tr>\n",
       "  </thead>\n",
       "  <tbody>\n",
       "    <tr>\n",
       "      <th>0</th>\n",
       "      <td>ADANA</td>\n",
       "      <td>15.69</td>\n",
       "    </tr>\n",
       "    <tr>\n",
       "      <th>1</th>\n",
       "      <td>ADIYAMAN</td>\n",
       "      <td>12.30</td>\n",
       "    </tr>\n",
       "    <tr>\n",
       "      <th>2</th>\n",
       "      <td>AFYONKARAHISAR</td>\n",
       "      <td>18.80</td>\n",
       "    </tr>\n",
       "    <tr>\n",
       "      <th>3</th>\n",
       "      <td>AGRI</td>\n",
       "      <td>7.65</td>\n",
       "    </tr>\n",
       "    <tr>\n",
       "      <th>4</th>\n",
       "      <td>AMASYA</td>\n",
       "      <td>25.95</td>\n",
       "    </tr>\n",
       "  </tbody>\n",
       "</table>\n",
       "</div>"
      ],
      "text/plain": [
       "             city  percentage\n",
       "0           ADANA       15.69\n",
       "1        ADIYAMAN       12.30\n",
       "2  AFYONKARAHISAR       18.80\n",
       "3            AGRI        7.65\n",
       "4          AMASYA       25.95"
      ]
     },
     "metadata": {},
     "output_type": "display_data"
    }
   ],
   "source": [
    "display(asilananlar_df.head())"
   ]
  },
  {
   "cell_type": "code",
   "execution_count": 25,
   "metadata": {
    "colab": {
     "base_uri": "https://localhost:8080/",
     "height": 575
    },
    "id": "J6NnKFrcPHE2",
    "outputId": "772b9edc-cd40-441b-e912-880a780d6fb5"
   },
   "outputs": [
    {
     "data": {
      "text/html": [
       "<div>\n",
       "<style scoped>\n",
       "    .dataframe tbody tr th:only-of-type {\n",
       "        vertical-align: middle;\n",
       "    }\n",
       "\n",
       "    .dataframe tbody tr th {\n",
       "        vertical-align: top;\n",
       "    }\n",
       "\n",
       "    .dataframe thead th {\n",
       "        text-align: right;\n",
       "    }\n",
       "</style>\n",
       "<table border=\"1\" class=\"dataframe\">\n",
       "  <thead>\n",
       "    <tr style=\"text-align: right;\">\n",
       "      <th></th>\n",
       "      <th>adm1_tr</th>\n",
       "      <th>adm1</th>\n",
       "      <th>Shape_Leng</th>\n",
       "      <th>Shape_Area</th>\n",
       "      <th>adm0_en</th>\n",
       "      <th>adm0_tr</th>\n",
       "      <th>adm0</th>\n",
       "      <th>geometry</th>\n",
       "      <th>percentage</th>\n",
       "    </tr>\n",
       "    <tr>\n",
       "      <th>adm1_en</th>\n",
       "      <th></th>\n",
       "      <th></th>\n",
       "      <th></th>\n",
       "      <th></th>\n",
       "      <th></th>\n",
       "      <th></th>\n",
       "      <th></th>\n",
       "      <th></th>\n",
       "      <th></th>\n",
       "    </tr>\n",
       "  </thead>\n",
       "  <tbody>\n",
       "    <tr>\n",
       "      <th>ADANA</th>\n",
       "      <td>ADANA</td>\n",
       "      <td>TUR001</td>\n",
       "      <td>8.271786</td>\n",
       "      <td>1.407083</td>\n",
       "      <td>TURKEY</td>\n",
       "      <td>TÜRKİYE</td>\n",
       "      <td>TUR</td>\n",
       "      <td>POLYGON ((36.31587 38.36376, 36.31769 38.36367...</td>\n",
       "      <td>15.69</td>\n",
       "    </tr>\n",
       "    <tr>\n",
       "      <th>ADIYAMAN</th>\n",
       "      <td>ADIYAMAN</td>\n",
       "      <td>TUR002</td>\n",
       "      <td>5.494422</td>\n",
       "      <td>0.750561</td>\n",
       "      <td>TURKEY</td>\n",
       "      <td>TÜRKİYE</td>\n",
       "      <td>TUR</td>\n",
       "      <td>POLYGON ((39.25297 38.18188, 39.25334 38.18159...</td>\n",
       "      <td>12.30</td>\n",
       "    </tr>\n",
       "    <tr>\n",
       "      <th>AFYONKARAHISAR</th>\n",
       "      <td>AFYONKARAHİSAR</td>\n",
       "      <td>TUR003</td>\n",
       "      <td>7.149996</td>\n",
       "      <td>1.450064</td>\n",
       "      <td>TURKEY</td>\n",
       "      <td>TÜRKİYE</td>\n",
       "      <td>TUR</td>\n",
       "      <td>POLYGON ((31.14797 39.26246, 31.15825 39.25753...</td>\n",
       "      <td>18.80</td>\n",
       "    </tr>\n",
       "    <tr>\n",
       "      <th>AGRI</th>\n",
       "      <td>AĞRI</td>\n",
       "      <td>TUR004</td>\n",
       "      <td>6.588304</td>\n",
       "      <td>1.163170</td>\n",
       "      <td>TURKEY</td>\n",
       "      <td>TÜRKİYE</td>\n",
       "      <td>TUR</td>\n",
       "      <td>POLYGON ((43.28706 40.01281, 43.29129 40.00884...</td>\n",
       "      <td>7.65</td>\n",
       "    </tr>\n",
       "    <tr>\n",
       "      <th>AKSARAY</th>\n",
       "      <td>AKSARAY</td>\n",
       "      <td>TUR068</td>\n",
       "      <td>4.432509</td>\n",
       "      <td>0.790388</td>\n",
       "      <td>TURKEY</td>\n",
       "      <td>TÜRKİYE</td>\n",
       "      <td>TUR</td>\n",
       "      <td>POLYGON ((33.96446 39.03804, 33.96453 39.03723...</td>\n",
       "      <td>14.76</td>\n",
       "    </tr>\n",
       "  </tbody>\n",
       "</table>\n",
       "</div>"
      ],
      "text/plain": [
       "                       adm1_tr    adm1  Shape_Leng  Shape_Area adm0_en  \\\n",
       "adm1_en                                                                  \n",
       "ADANA                    ADANA  TUR001    8.271786    1.407083  TURKEY   \n",
       "ADIYAMAN              ADIYAMAN  TUR002    5.494422    0.750561  TURKEY   \n",
       "AFYONKARAHISAR  AFYONKARAHİSAR  TUR003    7.149996    1.450064  TURKEY   \n",
       "AGRI                      AĞRI  TUR004    6.588304    1.163170  TURKEY   \n",
       "AKSARAY                AKSARAY  TUR068    4.432509    0.790388  TURKEY   \n",
       "\n",
       "                adm0_tr adm0  \\\n",
       "adm1_en                        \n",
       "ADANA           TÜRKİYE  TUR   \n",
       "ADIYAMAN        TÜRKİYE  TUR   \n",
       "AFYONKARAHISAR  TÜRKİYE  TUR   \n",
       "AGRI            TÜRKİYE  TUR   \n",
       "AKSARAY         TÜRKİYE  TUR   \n",
       "\n",
       "                                                         geometry  percentage  \n",
       "adm1_en                                                                        \n",
       "ADANA           POLYGON ((36.31587 38.36376, 36.31769 38.36367...       15.69  \n",
       "ADIYAMAN        POLYGON ((39.25297 38.18188, 39.25334 38.18159...       12.30  \n",
       "AFYONKARAHISAR  POLYGON ((31.14797 39.26246, 31.15825 39.25753...       18.80  \n",
       "AGRI            POLYGON ((43.28706 40.01281, 43.29129 40.00884...        7.65  \n",
       "AKSARAY         POLYGON ((33.96446 39.03804, 33.96453 39.03723...       14.76  "
      ]
     },
     "execution_count": 25,
     "metadata": {},
     "output_type": "execute_result"
    }
   ],
   "source": [
    "# Joining the geodataframe with the cleaned up dataframe\n",
    "merged = map_df.set_index('adm1_en').join(asilananlar_df.set_index('city'))\n",
    "\n",
    "# Inspecting very final dataframe\n",
    "merged.head()"
   ]
  },
  {
   "cell_type": "code",
   "execution_count": 27,
   "metadata": {
    "colab": {
     "base_uri": "https://localhost:8080/",
     "height": 332
    },
    "id": "QSFNdJ23PHE2",
    "outputId": "b69ef5aa-5024-4f94-c196-e4edd103df82"
   },
   "outputs": [
    {
     "data": {
      "image/png": "[encoded data removed]",
      "text/plain": [
       "<Figure size 648x360 with 2 Axes>"
      ]
     },
     "metadata": {},
     "output_type": "display_data"
    }
   ],
   "source": [
    "# Setting up a variable that will call whatever column we want to visualise on the map\n",
    "variable = 'percentage'\n",
    "\n",
    "# Set the range for the choropleth\n",
    "vmin, vmax = round(asilananlar_df.percentage.min()), round(asilananlar_df.percentage.max())\n",
    "\n",
    "# Create figure and axes for Matplotlib\n",
    "fig, ax = plt.subplots(1, figsize=(9, 5), facecolor=(1, 1, 1))\n",
    "\n",
    "# Remove the axis\n",
    "ax.axis('off')\n",
    "\n",
    "# Add a title\n",
    "ax.set_title('Şehir Nüfusu / Tam Aşılama Oranı', fontdict={'fontsize': '18', 'fontweight' : '3'})\n",
    "\n",
    "# Create an annotation for the data source\n",
    "ax.annotate(\n",
    "    f'{date[0]} {date[1]}', \n",
    "    xy=(0.1, .18), \n",
    "    xycoords='figure fraction', \n",
    "    horizontalalignment='left', \n",
    "    verticalalignment='top', \n",
    "    fontsize=16, \n",
    "    color='black')\n",
    "\n",
    "ax.annotate(\n",
    "    'Source: covid19asi.saglik.gov.tr, tuik.gov.tr', \n",
    "    xy=(0.1, .08), \n",
    "    xycoords='figure fraction', \n",
    "    horizontalalignment='left', \n",
    "    verticalalignment='top', \n",
    "    fontsize=12, \n",
    "    color='#555555')\n",
    "\n",
    "# Create colorbar as a legend\n",
    "sm = plt.cm.ScalarMappable(cmap='PuBu', norm=plt.Normalize(vmin=vmin, vmax=vmax))\n",
    "\n",
    "# Empty array for the data range\n",
    "sm._A = []\n",
    "\n",
    "# Add the colorbar to the figure\n",
    "cbar = fig.colorbar(sm, pad=0.05, ticks=[5, 10, 15, 20, 25, 30])\n",
    "cbar.ax.set_yticklabels(['5%', '10%', '15%', '20%', '25%', '30%']) \n",
    "merged.plot(column=variable, cmap='PuBu', linewidth=0.8, ax=ax, edgecolor='0.8');\n",
    "\n",
    "# Saving the map\n",
    "fig.savefig('map_export.png', dpi=100)"
   ]
  }
 ],
 "metadata": {
  "colab": {
   "name": "16_july_geopandas.ipynb",
   "provenance": []
  },
  "kernelspec": {
   "display_name": "Python 3",
   "language": "python",
   "name": "python3"
  },
  "language_info": {
   "codemirror_mode": {
    "name": "ipython",
    "version": 3
   },
   "file_extension": ".py",
   "mimetype": "text/x-python",
   "name": "python",
   "nbconvert_exporter": "python",
   "pygments_lexer": "ipython3",
   "version": "3.8.8"
  }
 },
 "nbformat": 4,
 "nbformat_minor": 4
}
